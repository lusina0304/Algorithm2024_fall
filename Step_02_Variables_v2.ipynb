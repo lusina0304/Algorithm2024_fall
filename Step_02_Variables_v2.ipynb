{
  "cells": [
    {
      "cell_type": "markdown",
      "metadata": {
        "id": "7WPlPmzcEEIx"
      },
      "source": [
        "# 수업 내용 확인"
      ]
    },
    {
      "cell_type": "markdown",
      "metadata": {
        "id": "oqj4KGWnEEIy"
      },
      "source": [
        "반갑습니다! 첫주 실습에 오신걸 환영합니다. 이번 실습에서는 알고리즘 수업의 실습을 진행하기 위한 파이썬의 기초와 변수 사용법, 리스트 등을 배울 것입니다. 마지막에는 오리엔테이션에서 다루었던 곱셈 연산을 구현해보고 그래프로 그려보는 코드도 있습니다."
      ]
    },
    {
      "cell_type": "markdown",
      "metadata": {
        "id": "Kf7GgpR6EEIz"
      },
      "source": [
        "## Hello World 프로그램 실행하기"
      ]
    },
    {
      "cell_type": "markdown",
      "metadata": {
        "id": "232-6ImIEEIz"
      },
      "source": [
        "가장 기초적인 \"Hello World 프로그램\"을 입력하고 실행해 봅니다.<br>\n",
        "아직은 프로그램의 의미를 모르겠지만, 간단하게 ``Hello World``라는 문장을 화면에 출력하는 프로그램입니다.<br>\n",
        "아래의 코드를 입력하고 실행해 봅니다.<br>\n",
        "\n",
        "```python\n",
        "print(\"Hello World\")\n",
        "```\n",
        "\n",
        "- **입력**은 아래의 ``In [ ]``으로 표현된 입력창(박스)안에 (위의) Python 프로그램을 타이핑하는 것을 의미하며,<br>\n",
        "- **실행**은 Python 프로그램을 입력한 ``In [ ]``박스안에서, 상단 메뉴의 ``Run`` 단추를 누르거나 ``Control + Enter`` 버튼을 입력하는 것 입니다. <br>\n",
        "\n",
        "``print()`` 문법은 Python에서 괄호안의 내용을 화면에 출력합니다.<br>\n",
        "위의 예제와 같이 ``\"`` ``\"`` 기호로 앞뒤를 감싼 문자열을 주면, 해당 문자열을 그대로 출력합니다.<br>"
      ]
    },
    {
      "cell_type": "code",
      "execution_count": null,
      "metadata": {
        "id": "8wn1u8ahEEIz",
        "outputId": "8dcb0a84-6aef-44d0-f5eb-abc097d21c5f",
        "colab": {
          "base_uri": "https://localhost:8080/"
        }
      },
      "outputs": [
        {
          "output_type": "stream",
          "name": "stdout",
          "text": [
            "Hello World\n"
          ]
        }
      ],
      "source": [
        "print(\"Hello World\")"
      ]
    },
    {
      "cell_type": "markdown",
      "metadata": {
        "id": "YfpPo1iLEEI0"
      },
      "source": [
        "``print(9+1)``과 같이 계산식을 주면, 계산한 결과 값을 화면에 출력하는 기능을 수행합니다.<br>\n",
        "아래의 입력창에서 ``print(9+1)``를 입력하고 실행해 봅니다.<br>"
      ]
    },
    {
      "cell_type": "code",
      "execution_count": null,
      "metadata": {
        "id": "_tkAk1ppEEI0"
      },
      "outputs": [],
      "source": []
    },
    {
      "cell_type": "markdown",
      "metadata": {
        "id": "ed0BLooaEEI0"
      },
      "source": [
        "## 더하기와 빼기 계산하기"
      ]
    },
    {
      "cell_type": "markdown",
      "metadata": {
        "id": "SG2_jAuZEEI0"
      },
      "source": [
        "Python의 더하기와 빼기 연산자는 이미 수학에서 배운 기호인 ``+``와 ``-``를 동일하게 사용합니다.<br>\n",
        "단순하게 정수들을 더하고 빼는 작업을 해봅니다.<br>\n",
        "다음의 각줄을 '한줄씩' 아래의 입력창에 입력하고 실행하여, 제대로 된 더하기와 빼기 연산이 이루어 지는 것을 확인합니다.<br>\n",
        "```python\n",
        "4 + 13\n",
        "15 - 3\n",
        "```"
      ]
    },
    {
      "cell_type": "code",
      "execution_count": null,
      "metadata": {
        "id": "JlyIhCPmEEI0"
      },
      "outputs": [],
      "source": []
    },
    {
      "cell_type": "markdown",
      "metadata": {
        "id": "T9sYNOhJEEI0"
      },
      "source": [
        "위에서 나타낸 두 연산식을 한줄씩 실행하지 않고, 두줄을 한번에 모두 실행하는 것은 ``print()`` 문법을 사용하여, 다음과 같이 하면 가능합니다.<br>\n",
        "```python\n",
        "print(4 + 13)\n",
        "print(15 - 2)\n",
        "```\n",
        "아래 입력창에 상기 ``print()`` 문법을 사용한 두줄을 한꺼번에 입력해서, 실행해 보기바랍니다."
      ]
    },
    {
      "cell_type": "code",
      "execution_count": null,
      "metadata": {
        "id": "5d-P_pNiEEI1"
      },
      "outputs": [],
      "source": []
    },
    {
      "cell_type": "markdown",
      "metadata": {
        "id": "aobKSuYDEEI1"
      },
      "source": [
        "## 곱하기 계산하기"
      ]
    },
    {
      "cell_type": "markdown",
      "metadata": {
        "id": "_IbsoWyGEEI1"
      },
      "source": [
        "Python의 곱하기 연산자는 수학에서 사용하는 ``x`` 기호가 아닌 ``*`` 기호를 사용합니다.<br>\n",
        "다음을 아래의 입력창에 입력하고 실행하여, 제대로 된 곱하기 연산 이루어 지는 것을 확인합니다.<br>\n",
        "```python\n",
        "9 * 9\n",
        "```"
      ]
    },
    {
      "cell_type": "code",
      "execution_count": null,
      "metadata": {
        "id": "FUQ6noFSEEI1"
      },
      "outputs": [],
      "source": []
    },
    {
      "cell_type": "markdown",
      "metadata": {
        "id": "puk11nddEEI1"
      },
      "source": [
        "## 나누기 계산하기"
      ]
    },
    {
      "cell_type": "markdown",
      "metadata": {
        "id": "hvbbqreoEEI1"
      },
      "source": [
        "Python을 포함한 컴퓨터 프로그래밍 언어의 나누기는 조금 복잡하게 느낄 수 있습니다.<br>\n",
        "Python은 나누기 관련 3개의 연산자가 있습니다.<br>\n",
        "첫번째, ``/``은 Division 연산자라고 하며, 나누기 결과를 실수로 출력하는 수학의 나누기 연산자의 역할을 합니다.<br>\n",
        "두번째, ``//``은 Integer (혹은 floor) Division 연산자라고 하며, 몫을 출력합니다.<br>\n",
        "세번째, ``%``는 Remainder 연산자라고 하며, 나머지를 출력합니다.<br>\n",
        "간단하게 다음의 수식들을 각각 한줄씩 입력하고 실행하여 결과를 확인해 봅니다.<br>\n",
        "```python\n",
        "11 / 2\n",
        "11 // 2\n",
        "8.5 % 3.5\n",
        "```"
      ]
    },
    {
      "cell_type": "code",
      "execution_count": null,
      "metadata": {
        "id": "aMratcMbEEI1",
        "outputId": "6664aa11-c8d4-4044-ca68-8d52d3d662bf"
      },
      "outputs": [
        {
          "data": {
            "text/plain": [
              "5.0"
            ]
          },
          "execution_count": 2,
          "metadata": {},
          "output_type": "execute_result"
        }
      ],
      "source": []
    },
    {
      "cell_type": "markdown",
      "metadata": {
        "id": "p4K2lLpxEEI1"
      },
      "source": [
        "## 기타 기본 연산자 이해하기"
      ]
    },
    {
      "cell_type": "markdown",
      "metadata": {
        "id": "_IYJxvD6EEI1"
      },
      "source": [
        "Python에서 자주 사용하는 다른 기본 연산자는 ``-``와 ``**``가 있습니다.<br>\n",
        "기호 ``-``가 변수나 숫자의 앞에 있으면, 양수를 음수로 바꾸고, 음수를 양수로 바꾸는 역할(Negation)을 합니다.<br>\n",
        "기호 ``**``는 Exponentiation 연산자라고 하며, 지수 계산을 합니다.<br>\n",
        "간단하게 다음의 수식을 각각 한줄씩 입력하고 실행하여 결과를 확인해 봅니다.<br>\n",
        "```python\n",
        "-5\n",
        "2 ** 5\n",
        "```"
      ]
    },
    {
      "cell_type": "code",
      "execution_count": null,
      "metadata": {
        "id": "woeyJnAfEEI1"
      },
      "outputs": [],
      "source": []
    },
    {
      "cell_type": "markdown",
      "metadata": {
        "id": "itj1tzCdEEI1"
      },
      "source": [
        "Python은 이외에도 다양한 목적의 연산자를 지원합니다.<br>\n",
        "특별히 복수의 연산자가 한줄에 섞여서 사용될 경우에 대한 연산자 우선순위는 다음과 같으며, 상위가 낮은 우선 순위입니다.<br>\n",
        "\n",
        "| Operator | Description |                              \n",
        "|:---:|:---:|\n",
        "| +, - | Addition and subtraction |\n",
        "| \\*, /, //, % | Multiplication, Division, floor division, remainder |\n",
        "| +x, -x | Positive, negative |\n",
        "| ** | Exponentiation |\n",
        "\n",
        "Python은 기본 연산자외에도 다양한 연산자를 지원합니다.<br>\n",
        "각 연산자에 대한 설명과 연산자 간 우선순위에 대해서 구체적으로 알고 싶다면 관련 자료 혹은,<br>\n",
        "Python 공식 언어 웹사이트(<https://docs.python.org/3/reference/expressions.html>)를 방문합니다."
      ]
    },
    {
      "cell_type": "markdown",
      "metadata": {
        "id": "LGZDayu2EEI1"
      },
      "source": [
        "## 기본 데이터 타입 이해하기"
      ]
    },
    {
      "cell_type": "markdown",
      "metadata": {
        "id": "jtOaAIOwEEI2"
      },
      "source": [
        "Python과 같은 컴퓨터 프로그래밍 언어는 무한한 실제 세상을 유한한 컴퓨터의 세상에 담기 위하여, 다양한 데이터 타입을 제공합니다.<br>\n",
        "가장 기초적인 데이터 타입은 수학의 정수(integer), 실수(float) 및 복소수(complex) 입니다.<br>\n",
        "Python 프로그래밍을 하면서, 프로그램에서 사용하는 데이터의 타입을 알고 싶으면 ``type()`` 문법을 사용하면 됩니다.<br>\n",
        "다음의 문장을 각각 한줄씩 입력하고 실행하여 결과를 확인해 보면, ``type()`` 문법으로 숫자의 타입을 출력하는 것을 실습할 수 있습니다.<br>\n",
        "```python\n",
        "type(17)\n",
        "type(17.0)\n",
        "```"
      ]
    },
    {
      "cell_type": "code",
      "execution_count": null,
      "metadata": {
        "id": "3gKtJNx9EEI2"
      },
      "outputs": [],
      "source": []
    },
    {
      "cell_type": "markdown",
      "metadata": {
        "id": "gi7MuYEVEEI2"
      },
      "source": [
        "Python에서 숫자는 기본적으로 위와 같이 십진법을 사용합니다.<br>\n",
        "하지만 필요시에는 8진법 혹은 16진법과 같은 다른 진법을 사용하기도 합니다.<br>\n",
        "이 경우 숫자가 8진법인 경우는 숫자앞에 ``0o``를 붙여서 0o34처럼 십진법의 28을 나타내며,<br>\n",
        "16진법의 경우는 숫자앞에 ``0x``를 붙여서 0x34처럼 십진법의 52을 나타내기도 합니다.<br>\n",
        "위에서 ``0o``의 ``0``는 숫자 ``0``이고, ``o``는 알파벳 ``O``의 소문자 ``o``이며,<br>\n",
        "``0x``의 ``0``는 숫자 ``0``이고, ``x``는 알파벳 ``X``의 소문자 ``x``입니다.<br>\n",
        "다음의 문장을 각각 한줄씩 입력하고 실행하여 결과를 확인하여 실습해보기 바랍니다.<br>\n",
        "```python\n",
        "0o34\n",
        "0x34\n",
        "```"
      ]
    },
    {
      "cell_type": "code",
      "execution_count": null,
      "metadata": {
        "id": "YDHdR9WAEEI2"
      },
      "outputs": [],
      "source": []
    },
    {
      "cell_type": "markdown",
      "metadata": {
        "id": "NDtoSsdQEEI2"
      },
      "source": [
        "## 변수의 개념 이해하기"
      ]
    },
    {
      "cell_type": "markdown",
      "metadata": {
        "id": "QHG4cAJ-EEI2"
      },
      "source": [
        "다음은 수학 기호를 이용하여 화씨 온도인 F를 섭씨 온도인 C로 변환하는 것을 나타낸 것입니다.<br>\n",
        "\n",
        "``Fahrenheit to Celsius (수학)``: $C=(F-32)*\\frac{5}{9}$\n",
        "\n",
        "수학 수업을 통해서, 우리는 F에 어떤 값을 대입할 경우에, 해당 수식을 계산할 수 있음을 알고 있습니다.<br>\n",
        "즉, ``F``에 212이라는 값을 대입 한다면, ``C``는 100이라는 값으로 계산이 된다는 것을 이해하는 것이지요.<br>\n",
        "이런 경우, ``F``는 변하는 값을 갖는 변수로서, 예제의 경우는 212의 값을 갖으며, ``C``도 변수로서 이경우 100이라는 값을 갖게 됩니다.<br>\n",
        "이와 같이, Python에서도 변수를 만들어서, 필요한 시점에 필요한 값을 '저장'하는 용도로 활용합니다.<br>\n",
        "Python과 같은 컴퓨터 프로그래밍 언어에서의 변수 이름은 반드시 용도를 이해할 수 있는 길이와 단어를 사용합니다.<br>\n",
        "위의 수학 공식을 Python 코드 스타일로 바꾸면 다음과 같이 됩니다.<br>\n",
        "\n",
        "``Fahrenheit to Celsius (Python)``:\n",
        "```python\n",
        "degree_celsius = (degree_fahrenheit - 32) * 5 / 9\n",
        "```\n",
        "\n",
        "실제로 다음의 코드를 아래의 입력창에 입력하고, 수행하여 화씨 212도가 섭씨 100도로 제대로 변환이 되는지를 확인해 봅니다.<br>\n",
        "```python\n",
        "degree_fahrenheit = 212\n",
        "degree_celsius = (degree_fahrenheit - 32) * 5 / 9\n",
        "print(degree_celsius)\n",
        "```\n",
        "Python에서의 변수명은 대소문자 알파벳으로 시작해서 가능하면 이름이 명확한 의미를 전달할 수 있는 명사와 동사를 섞어서 사용하기 권합니다."
      ]
    },
    {
      "cell_type": "code",
      "execution_count": null,
      "metadata": {
        "id": "St_EaBZTEEI2"
      },
      "outputs": [],
      "source": []
    },
    {
      "cell_type": "markdown",
      "metadata": {
        "id": "WK26tvvSEEI2"
      },
      "source": [
        "## 주석 작성 하기"
      ]
    },
    {
      "cell_type": "markdown",
      "metadata": {
        "id": "DIJtPOHnEEI2"
      },
      "source": [
        "주석(Comment)은 1) 내가 만든 코드를 미래의 내가 다시 읽을때 이해를 쉽게 하기 위한 용도,<br>\n",
        "그리고 2) 내가 만든 코드를 남에게 주었을때 다른 사람이 내가 만든 코드를 쉽게 이해하기 위한 용도로 활용합니다.<br>\n",
        "실제 Python에 의해서는 실행되지 않는 문장이며, 사람간에 소스 프로그램에 대한 정보를 전달하기 위함입니다.<br>\n",
        "Python에서의 주석은 줄의 시작 부분에 ``#`` 기호를 삽입합니다.<br>\n",
        "예를 들어 앞서 섭씨/화씨 변환 프로그램에 주석을 달면 다음과 같습니다.<br>\n",
        "```python\n",
        "# Purpose: Fahrenheit to Celsius\n",
        "# Date: 2018. 9. 1\n",
        "# Written by: Sungwon Lee\n",
        "degree_celsius = (degree_fahrenheit - 32) * 5 / 9\n",
        "# degree_fahrenheit: target variable to convert\n",
        "# Contact: drsungwon@khu.ac.kr\n",
        "```\n",
        "최근의 Agile과 같은 프로그래밍 기법은 설계 문서 보다는 동작하는 코드를 중시하는 바,<br>\n",
        "설계 문서를 작성하는 대신에 소스 코드 안에 미리 주석 문으로 수행해야 하는 동작을 기술한 후,<br>\n",
        "실제 Python과 같은 컴퓨터 프로그래밍 언어로 주석문의 내용을 1:1로 구현하는 방식의 기법을 많이 사용합니다.<br>\n",
        "이렇게 함으로서 주석 구문을 설계 방법 처럼 사용하는 것이니, 많이 활용해 보기 바랍니다."
      ]
    },
    {
      "cell_type": "markdown",
      "metadata": {
        "id": "nsg8Xf3bEEI2"
      },
      "source": [
        "# 실습 (LAB)"
      ]
    },
    {
      "cell_type": "markdown",
      "metadata": {
        "id": "kWG8gbuOEEI2"
      },
      "source": [
        "## 기본 연산자 실습하기"
      ]
    },
    {
      "cell_type": "markdown",
      "metadata": {
        "id": "GFf-kKJyEEI2"
      },
      "source": [
        "Python 코드로 아래의 계산을 수행하고 결과를 ``print()`` 문법을 사용하여 출력합니다.<br>\n",
        "단순하게 결과 값을 출력하는데 그치지 말고, 왜 그런 결과 값이  나왔는지에 대해서 이해합니다.<br>\n",
        "특별히 어떤 경우에 정수/소수 결과가 나오는지 확인해 봅니다.<br>\n",
        "```python\n",
        "9-3\n",
        "8*25\n",
        "9/2\n",
        "9/-2\n",
        "9//2\n",
        "9//-2\n",
        "9%2\n",
        "9.0%2\n",
        "9%2.0\n",
        "9%-2\n",
        "-9%2\n",
        "9/-2.0\n",
        "4+5*5\n",
        "(4+3)*5\n",
        "```"
      ]
    },
    {
      "cell_type": "code",
      "execution_count": null,
      "metadata": {
        "id": "9ktxCKUXEEI3"
      },
      "outputs": [],
      "source": []
    },
    {
      "cell_type": "markdown",
      "metadata": {
        "id": "t2COuZkjEEI3"
      },
      "source": [
        "## 변수 활용하기"
      ]
    },
    {
      "cell_type": "markdown",
      "metadata": {
        "id": "W3WVfupIEEI3"
      },
      "source": [
        "Python을 사용하여 섭씨 온도를 화씨 온도로 변경하는 간단한 프로그램을 만들어 봅니다.<br>\n",
        "1) 변수 temp를 생성하고, 값 24로 설정합니다.<br>\n",
        "2) temp의 값을 섭씨 온도로 가정하여, 이를 화씨 온도로 바꿉니다. 이렇께 바꾼 결과값을 다시 temp 변수에 저장합니다.<br>\n",
        "- 참고로, 섭씨 온도에 1.8을 곱하고 32를 더하면 화씨 온도가 계산됩니다.<br>\n",
        "\n",
        "3) 결과 확인을 위하여 temp 값을 ``print()`` 문법을 사용하여 출력합니다."
      ]
    },
    {
      "cell_type": "code",
      "execution_count": null,
      "metadata": {
        "id": "xna516WIEEI3"
      },
      "outputs": [],
      "source": []
    },
    {
      "cell_type": "markdown",
      "metadata": {
        "id": "ilrjZLQUEEI3"
      },
      "source": [
        "## 기본 연산자 우선 순위 및 주석 처리 실습하기"
      ]
    },
    {
      "cell_type": "markdown",
      "metadata": {
        "id": "T-y-LQFMEEI3"
      },
      "source": [
        "다음의 연산식의 결과를 머리로 계산해 본 후, 다음의 첫번째 입력창에 주석 문으로 답안을 작성해 봅니다.<br>\n",
        "\n",
        "``(a) 6 * 3 + 7 * 4``<br>\n",
        "``(b) 5 + 3 / 4``<br>\n",
        "``(c) 5 - 2 * 3 ** 4``<br>\n",
        "\n",
        "그런 다음, 두번째 출력창에서 ``print()`` 문법을 사용하여 결과를 출력해보고 두개의 답안이 맞는지 확인해 봅니다.<br>"
      ]
    },
    {
      "cell_type": "code",
      "execution_count": null,
      "metadata": {
        "id": "9xHbis_OEEI3"
      },
      "outputs": [],
      "source": []
    },
    {
      "cell_type": "code",
      "execution_count": null,
      "metadata": {
        "id": "i3XR8Hk6EEI3"
      },
      "outputs": [],
      "source": []
    },
    {
      "cell_type": "markdown",
      "source": [
        "현 페이지는 \"경희대학교 소프트웨어융합학과의 SWCON104 웹파이선프로그래밍 수업\"으로부터 작성되었습니다."
      ],
      "metadata": {
        "id": "ukb7qlDjK8Wq"
      }
    },
    {
      "cell_type": "markdown",
      "metadata": {
        "id": "UhcbBQUiStHG"
      },
      "source": [
        "## 리스트 (Lists)"
      ]
    },
    {
      "cell_type": "markdown",
      "metadata": {
        "id": "RkPn1IjNTCxA"
      },
      "source": [
        "리스트는 요소들의 순서가 있는 데이터를 담는 컨테이너 타입입니다. 리스트는 빈 상태로 초기화할 수 있습니다."
      ]
    },
    {
      "cell_type": "code",
      "metadata": {
        "id": "OrnV1ySAPtHp"
      },
      "source": [
        "my_list = []"
      ],
      "execution_count": null,
      "outputs": []
    },
    {
      "cell_type": "markdown",
      "metadata": {
        "id": "OwRqyYI9XnPK"
      },
      "source": [
        "또는 일부 초기 요소들과 함께 초기화할 수 있습니다."
      ]
    },
    {
      "cell_type": "code",
      "metadata": {
        "id": "Uq5YTJ1JXpOX"
      },
      "source": [
        "my_list = [1, 2, 3]"
      ],
      "execution_count": null,
      "outputs": []
    },
    {
      "cell_type": "markdown",
      "metadata": {
        "id": "Hk2WmojJXyyz"
      },
      "source": [
        "리스트는 동적 크기를 가지며 요소를 추가(append)할 수 있습니다."
      ]
    },
    {
      "cell_type": "code",
      "metadata": {
        "id": "QFTNqiYiXxAh",
        "colab": {
          "base_uri": "https://localhost:8080/",
          "height": 34
        },
        "outputId": "720d3340-7df7-49b8-c920-964d2e350af5"
      },
      "source": [
        "my_list.append(4)\n",
        "my_list"
      ],
      "execution_count": null,
      "outputs": [
        {
          "output_type": "execute_result",
          "data": {
            "text/plain": [
              "[1, 2, 3, 4]"
            ]
          },
          "metadata": {
            "tags": []
          },
          "execution_count": 9
        }
      ]
    },
    {
      "cell_type": "markdown",
      "metadata": {
        "id": "IUnJuqQ2Yhzw"
      },
      "source": [
        "리스트의 개별 요소에 접근할 수 있습니다(인덱싱은 0부터 시작)."
      ]
    },
    {
      "cell_type": "code",
      "metadata": {
        "id": "pyFxyZPVYpG_",
        "colab": {
          "base_uri": "https://localhost:8080/",
          "height": 34
        },
        "outputId": "7efb0bc1-25fb-4849-8d3a-cfa62b94a175"
      },
      "source": [
        "my_list[2]"
      ],
      "execution_count": null,
      "outputs": [
        {
          "output_type": "execute_result",
          "data": {
            "text/plain": [
              "3"
            ]
          },
          "metadata": {
            "tags": []
          },
          "execution_count": 10
        }
      ]
    },
    {
      "cell_type": "markdown",
      "metadata": {
        "id": "hPMrIDYsdgMP"
      },
      "source": [
        "리스트의 \"슬라이스(slices)\"에 접근할 수 있습니다. `my_list[i:j]`를 사용하여 `i`는 슬라이스의 시작 인덱스(0부터 시작), `j`는 슬라이스의 끝 인덱스를 나타냅니다. 예를 들어:"
      ]
    },
    {
      "cell_type": "code",
      "metadata": {
        "id": "Ichf9p0gd7tJ",
        "colab": {
          "base_uri": "https://localhost:8080/",
          "height": 34
        },
        "outputId": "5f4ec085-431e-4e16-aab1-8708f2c931d4"
      },
      "source": [
        "my_list[1:3]"
      ],
      "execution_count": null,
      "outputs": [
        {
          "output_type": "execute_result",
          "data": {
            "text/plain": [
              "[2, 3]"
            ]
          },
          "metadata": {
            "tags": []
          },
          "execution_count": 14
        }
      ]
    },
    {
      "cell_type": "markdown",
      "metadata": {
        "id": "KMbzH4tzQ9rI"
      },
      "source": [
        "두 번째 인덱스를 생략하면 슬라이스는 리스트의 끝까지 진행됩니다."
      ]
    },
    {
      "cell_type": "code",
      "metadata": {
        "id": "O7wCthKnREKV",
        "colab": {
          "base_uri": "https://localhost:8080/",
          "height": 34
        },
        "outputId": "5a04ea59-7a54-4b09-a8ee-3cd6171e8c7a"
      },
      "source": [
        "my_list[1:]"
      ],
      "execution_count": null,
      "outputs": [
        {
          "output_type": "execute_result",
          "data": {
            "text/plain": [
              "[2, 3, 4]"
            ]
          },
          "metadata": {
            "tags": []
          },
          "execution_count": 64
        }
      ]
    },
    {
      "cell_type": "markdown",
      "metadata": {
        "id": "C5Aeu7PUebrK"
      },
      "source": [
        "리스트에 특정 요소가 있는지 `in`을 사용해 확인할 수 있습니다."
      ]
    },
    {
      "cell_type": "code",
      "metadata": {
        "id": "a_P5NCi-efvb",
        "colab": {
          "base_uri": "https://localhost:8080/",
          "height": 34
        },
        "outputId": "5012122e-f02c-4474-ec51-6ef8519e5733"
      },
      "source": [
        "5 in my_list"
      ],
      "execution_count": null,
      "outputs": [
        {
          "output_type": "execute_result",
          "data": {
            "text/plain": [
              "False"
            ]
          },
          "metadata": {
            "tags": []
          },
          "execution_count": 15
        }
      ]
    },
    {
      "cell_type": "markdown",
      "metadata": {
        "id": "LypIsP5gkl10"
      },
      "source": [
        "리스트의 길이는 `len` 함수를 사용해 얻을 수 있습니다."
      ]
    },
    {
      "cell_type": "code",
      "metadata": {
        "id": "ac0FMsaKkrWc",
        "colab": {
          "base_uri": "https://localhost:8080/",
          "height": 34
        },
        "outputId": "0a7418d2-67a1-419c-e12b-e6ffb3b4b66d"
      },
      "source": [
        "len(my_list)"
      ],
      "execution_count": null,
      "outputs": [
        {
          "output_type": "execute_result",
          "data": {
            "text/plain": [
              "4"
            ]
          },
          "metadata": {
            "tags": []
          },
          "execution_count": 24
        }
      ]
    },
    {
      "cell_type": "markdown",
      "metadata": {
        "id": "1c3RLStf7G2I"
      },
      "source": [
        "## 문자열(Strings)"
      ]
    },
    {
      "cell_type": "markdown",
      "metadata": {
        "id": "Jm6hZhgz7KhI"
      },
      "source": [
        "문자열(Strings)은 텍스트를 저장하는 데 사용됩니다. 문자열은 작은따옴표(single quotes)나 큰따옴표(double quotes)로 구분할 수 있습니다."
      ]
    },
    {
      "cell_type": "code",
      "metadata": {
        "id": "cCma6Oj_7T8n"
      },
      "source": [
        "string1 = \"some text\"\n",
        "string2 = 'some other text'"
      ],
      "execution_count": null,
      "outputs": []
    },
    {
      "cell_type": "markdown",
      "metadata": {
        "id": "Irr4xuWu7Znu"
      },
      "source": [
        "문자열은 리스트와 유사하게 동작합니다. 따라서, 개별 요소에 동일한 방식으로 접근할 수 있습니다."
      ]
    },
    {
      "cell_type": "code",
      "metadata": {
        "id": "26_POhLO7iM3",
        "colab": {
          "base_uri": "https://localhost:8080/",
          "height": 35
        },
        "outputId": "fa06d3b9-c683-4b05-bedc-36bc43f57bd4"
      },
      "source": [
        "string1[3]"
      ],
      "execution_count": null,
      "outputs": [
        {
          "output_type": "execute_result",
          "data": {
            "application/vnd.google.colaboratory.intrinsic+json": {
              "type": "string"
            },
            "text/plain": [
              "'e'"
            ]
          },
          "metadata": {
            "tags": []
          },
          "execution_count": 49
        }
      ]
    },
    {
      "cell_type": "markdown",
      "metadata": {
        "id": "oA_UD0JV7oPw"
      },
      "source": [
        "슬라이스(Slices)도 동일하게 사용할 수 있습니다."
      ]
    },
    {
      "cell_type": "code",
      "metadata": {
        "id": "dcZFcLqQ7qCe",
        "colab": {
          "base_uri": "https://localhost:8080/",
          "height": 35
        },
        "outputId": "aba6c437-ade3-49da-9e6a-9383eab01fa9"
      },
      "source": [
        "string1[5:]"
      ],
      "execution_count": null,
      "outputs": [
        {
          "output_type": "execute_result",
          "data": {
            "application/vnd.google.colaboratory.intrinsic+json": {
              "type": "string"
            },
            "text/plain": [
              "'text'"
            ]
          },
          "metadata": {
            "tags": []
          },
          "execution_count": 53
        }
      ]
    },
    {
      "cell_type": "markdown",
      "metadata": {
        "id": "hOQ_CIiu76YG"
      },
      "source": [
        "문자열 연결은 `+` 연산자를 사용해 수행됩니다."
      ]
    },
    {
      "cell_type": "code",
      "metadata": {
        "id": "mxqNMKCY79_W",
        "colab": {
          "base_uri": "https://localhost:8080/",
          "height": 35
        },
        "outputId": "e5695c9e-0703-49b3-9608-b57ca8375ba9"
      },
      "source": [
        "string1 + \" \" + string2"
      ],
      "execution_count": null,
      "outputs": [
        {
          "output_type": "execute_result",
          "data": {
            "application/vnd.google.colaboratory.intrinsic+json": {
              "type": "string"
            },
            "text/plain": [
              "'some text some other text'"
            ]
          },
          "metadata": {
            "tags": []
          },
          "execution_count": 55
        }
      ]
    },
    {
      "cell_type": "markdown",
      "metadata": {
        "id": "7Lox2GZCMdIB"
      },
      "source": [
        "## 조건문(Conditionals)"
      ]
    },
    {
      "cell_type": "markdown",
      "metadata": {
        "id": "-gXEAWFZfDTT"
      },
      "source": [
        "조건문은 조건이 참(True)인지 거짓(False)인지에 따라 코드를 실행하는 방법입니다. 다른 언어와 마찬가지로, Python에서는 `if`와 `else`를 지원하며, else if는 `elif`로 축약됩니다. 아래의 예제를 참조하세요."
      ]
    },
    {
      "cell_type": "code",
      "metadata": {
        "id": "xC_DMZjofoYZ",
        "colab": {
          "base_uri": "https://localhost:8080/",
          "height": 34
        },
        "outputId": "e86016aa-0ebd-4e0f-e559-326f4b2ce644"
      },
      "source": [
        "my_variable = 5\n",
        "if my_variable < 0:\n",
        "  print(\"negative\")\n",
        "elif my_variable == 0:\n",
        "  print(\"null\")\n",
        "else: # my_variable > 0\n",
        "  print(\"positive\")"
      ],
      "execution_count": null,
      "outputs": [
        {
          "output_type": "stream",
          "text": [
            "positive\n"
          ],
          "name": "stdout"
        }
      ]
    },
    {
      "cell_type": "markdown",
      "metadata": {
        "id": "Ag0SUokSf9jl"
      },
      "source": [
        "여기서 `<`와 `>`는 각각 엄격한 `작다`와 `크다`를 나타내는 연산자이며, `==`는 동등성 연산자입니다(변수 할당 연산자 `=`와 혼동하지 마세요). `<=`와 `>=` 연산자는 각각 `작거나 같다`와 `크거나 같다`를 비교하는 데 사용됩니다."
      ]
    },
    {
      "cell_type": "markdown",
      "metadata": {
        "id": "qTkQ2F_jy8wz"
      },
      "source": [
        "다른 언어와 달리, 코드 블록은 들여쓰기를 사용해 구분됩니다. 여기서는 2칸 들여쓰기를 사용하지만, 많은 프로그래머들이 4칸 들여쓰기를 사용하기도 합니다. 일관성을 유지하는 한, 어느 쪽도 괜찮습니다."
      ]
    },
    {
      "cell_type": "markdown",
      "metadata": {
        "id": "clWaFCzBMfkv"
      },
      "source": [
        "## 반복문(Loops)"
      ]
    },
    {
      "cell_type": "markdown",
      "metadata": {
        "id": "_A5doqhTivWe"
      },
      "source": [
        "반복문은 코드 블록을 여러 번 실행하는 방법입니다. 주요 반복문 유형은 while 루프와 for 루프가 있습니다."
      ]
    },
    {
      "cell_type": "markdown",
      "metadata": {
        "id": "YN8lwTxQkGEa"
      },
      "source": [
        "While 루프"
      ]
    },
    {
      "cell_type": "code",
      "metadata": {
        "id": "7-QXGqgOjsr_",
        "colab": {
          "base_uri": "https://localhost:8080/",
          "height": 85
        },
        "outputId": "4a9bdffc-46ba-47ba-e60b-3ea01dcd2d65"
      },
      "source": [
        "i = 0\n",
        "while i < len(my_list):\n",
        "  print(my_list[i])\n",
        "  i += 1 # equivalent to i = i + 1"
      ],
      "execution_count": null,
      "outputs": [
        {
          "output_type": "stream",
          "text": [
            "1\n",
            "2\n",
            "3\n",
            "4\n"
          ],
          "name": "stdout"
        }
      ]
    },
    {
      "cell_type": "markdown",
      "metadata": {
        "id": "8mEI_ocfkSvZ"
      },
      "source": [
        "For 루프"
      ]
    },
    {
      "cell_type": "code",
      "metadata": {
        "id": "2QObx5mckMcI",
        "colab": {
          "base_uri": "https://localhost:8080/",
          "height": 85
        },
        "outputId": "32c31a79-ef89-4e80-9e76-47540f839cb6"
      },
      "source": [
        "for i in range(len(my_list)):\n",
        "  print(my_list[i])"
      ],
      "execution_count": null,
      "outputs": [
        {
          "output_type": "stream",
          "text": [
            "1\n",
            "2\n",
            "3\n",
            "4\n"
          ],
          "name": "stdout"
        }
      ]
    },
    {
      "cell_type": "markdown",
      "metadata": {
        "id": "XO6qqppikZvm"
      },
      "source": [
        "리스트를 단순히 순회(iterate)하려는 경우, 다음과 같이 직접적으로 할 수 있습니다."
      ]
    },
    {
      "cell_type": "code",
      "metadata": {
        "id": "PjFKzN6zkeJ7",
        "colab": {
          "base_uri": "https://localhost:8080/",
          "height": 85
        },
        "outputId": "41f3a553-b629-4e52-ad98-7bbe55e0cced"
      },
      "source": [
        "for element in my_list:\n",
        "  print(element)"
      ],
      "execution_count": null,
      "outputs": [
        {
          "output_type": "stream",
          "text": [
            "1\n",
            "2\n",
            "3\n",
            "4\n"
          ],
          "name": "stdout"
        }
      ]
    },
    {
      "cell_type": "markdown",
      "metadata": {
        "id": "Cck4zwYrex02"
      },
      "source": [
        "## 함수(Functions)"
      ]
    },
    {
      "cell_type": "markdown",
      "metadata": {
        "id": "n1PbIf_ohxFO"
      },
      "source": [
        "코드 가독성을 향상시키기 위해, 코드를 여러 블록으로 분리하여 각각 특정 작업을 수행하도록 하는 것이 일반적입니다. 이러한 블록을 함수라고 합니다. 함수는 일부 입력을 받아 처리한 후, 출력을 반환합니다."
      ]
    },
    {
      "cell_type": "code",
      "metadata": {
        "id": "cImA09gOhRmx",
        "colab": {
          "base_uri": "https://localhost:8080/",
          "height": 34
        },
        "outputId": "85834282-56d6-4c17-f188-433f46c50d21"
      },
      "source": [
        "def square(x):\n",
        "  return x ** 2\n",
        "\n",
        "def multiply(a, b):\n",
        "  return a * b\n",
        "\n",
        "# 함수의 조합\n",
        "square(multiply(3, 2))"
      ],
      "execution_count": null,
      "outputs": [
        {
          "output_type": "execute_result",
          "data": {
            "text/plain": [
              "36"
            ]
          },
          "metadata": {
            "tags": []
          },
          "execution_count": 17
        }
      ]
    },
    {
      "cell_type": "markdown",
      "metadata": {
        "id": "75-5SOk9iYSt"
      },
      "source": [
        "가독성을 높이기 위해 인수를 명시적으로 지정하는 것도 유용할 수 있습니다."
      ]
    },
    {
      "cell_type": "code",
      "metadata": {
        "id": "wkIUuZHhidI0",
        "colab": {
          "base_uri": "https://localhost:8080/",
          "height": 34
        },
        "outputId": "acb68380-db78-491c-ce27-8a4664f78ce5"
      },
      "source": [
        "square(multiply(a=3, b=2))"
      ],
      "execution_count": null,
      "outputs": [
        {
          "output_type": "execute_result",
          "data": {
            "text/plain": [
              "36"
            ]
          },
          "metadata": {
            "tags": []
          },
          "execution_count": 18
        }
      ]
    },
    {
      "cell_type": "markdown",
      "source": [
        "## 자습\n",
        "*   https://docs.python.org/ko/3/tutorial/ 를 통해 더 많이 학습할 수 있습니다.\n",
        "\n"
      ],
      "metadata": {
        "id": "RoIpfYV0R9ah"
      }
    }
  ],
  "metadata": {
    "kernelspec": {
      "display_name": "Python 3",
      "language": "python",
      "name": "python3"
    },
    "language_info": {
      "codemirror_mode": {
        "name": "ipython",
        "version": 3
      },
      "file_extension": ".py",
      "mimetype": "text/x-python",
      "name": "python",
      "nbconvert_exporter": "python",
      "pygments_lexer": "ipython3",
      "version": "3.6.4"
    },
    "colab": {
      "provenance": []
    }
  },
  "nbformat": 4,
  "nbformat_minor": 0
}