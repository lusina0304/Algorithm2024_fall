{
 "cells": [
  {
   "cell_type": "markdown",
   "metadata": {},
   "source": [
    "# 벡터 변환과 그래픽스"
   ]
  },
  {
   "cell_type": "markdown",
   "metadata": {},
   "source": [
    "# 4.1 3D 객체의 변환"
   ]
  },
  {
   "cell_type": "markdown",
   "metadata": {},
   "source": [
    "## 4.1.1 변환된 객체 그려보기"
   ]
  },
  {
   "cell_type": "code",
   "execution_count": 1,
   "metadata": {},
   "outputs": [
    {
     "name": "stdout",
     "output_type": "stream",
     "text": [
      "pygame 2.6.1 (SDL 2.28.4, Python 3.9.13)\n",
      "Hello from the pygame community. https://www.pygame.org/contribute.html\n"
     ]
    }
   ],
   "source": [
    "!python draw_teapot.py"
   ]
  },
  {
   "cell_type": "code",
   "execution_count": 2,
   "metadata": {},
   "outputs": [
    {
     "name": "stdout",
     "output_type": "stream",
     "text": [
      "pygame 2.6.1 (SDL 2.28.4, Python 3.12.3)\n",
      "Hello from the pygame community. https://www.pygame.org/contribute.html\n"
     ]
    }
   ],
   "source": [
    "!python scale_teapot.py"
   ]
  },
  {
   "cell_type": "code",
   "execution_count": 3,
   "metadata": {},
   "outputs": [
    {
     "name": "stdout",
     "output_type": "stream",
     "text": [
      "pygame 2.6.1 (SDL 2.28.4, Python 3.12.3)\n",
      "Hello from the pygame community. https://www.pygame.org/contribute.html\n"
     ]
    }
   ],
   "source": [
    "!python scale_translate_teapot.py"
   ]
  },
  {
   "cell_type": "markdown",
   "metadata": {},
   "source": [
    "## 4.1.2 벡터 변환들의 합성"
   ]
  },
  {
   "cell_type": "code",
   "execution_count": 2,
   "metadata": {},
   "outputs": [],
   "source": [
    "def compose(f1,f2):\n",
    "    def new_function(input):\n",
    "        return f1(f2(input))\n",
    "    return new_function"
   ]
  },
  {
   "cell_type": "code",
   "execution_count": 3,
   "metadata": {},
   "outputs": [],
   "source": [
    "def polygon_map(transformation, polygons):\n",
    "    return [\n",
    "        [transformation(vertex) for vertex in triangle]\n",
    "        for triangle in polygons\n",
    "    ]"
   ]
  },
  {
   "cell_type": "code",
   "execution_count": 6,
   "metadata": {},
   "outputs": [],
   "source": [
    "def scale_by(scalar):\n",
    "    def new_function(v):\n",
    "        return scale(scalar, v)\n",
    "    return new_function"
   ]
  },
  {
   "cell_type": "markdown",
   "metadata": {},
   "source": [
    "## 4.1.3 축을 기준으로 회전하기"
   ]
  },
  {
   "cell_type": "code",
   "execution_count": 7,
   "metadata": {},
   "outputs": [
    {
     "name": "stdout",
     "output_type": "stream",
     "text": [
      "pygame 2.6.1 (SDL 2.28.4, Python 3.12.3)\n",
      "Hello from the pygame community. https://www.pygame.org/contribute.html\n"
     ]
    }
   ],
   "source": [
    "!python rotate_teapot.py"
   ]
  },
  {
   "cell_type": "code",
   "execution_count": 4,
   "metadata": {},
   "outputs": [],
   "source": [
    "def rotate_x(angle, vector):\n",
    "    x,y,z = vector\n",
    "    new_y, new_z = rotate2d(angle, (y,z))\n",
    "    return x, new_y, new_z\n",
    "\n",
    "def rotate_x_by(angle):\n",
    "    def new_function(v):\n",
    "        return rotate_x(angle,v)\n",
    "    return new_function"
   ]
  },
  {
   "cell_type": "code",
   "execution_count": 9,
   "metadata": {},
   "outputs": [
    {
     "name": "stdout",
     "output_type": "stream",
     "text": [
      "pygame 2.6.1 (SDL 2.28.4, Python 3.12.3)\n",
      "Hello from the pygame community. https://www.pygame.org/contribute.html\n"
     ]
    }
   ],
   "source": [
    "!python rotate_teapot_x.py"
   ]
  },
  {
   "cell_type": "code",
   "execution_count": null,
   "metadata": {},
   "outputs": [
    {
     "ename": "NameError",
     "evalue": "name 'quit' is not defined",
     "output_type": "error",
     "traceback": [
      "\u001b[1;31m---------------------------------------------------------------------------\u001b[0m",
      "\u001b[1;31mNameError\u001b[0m                                 Traceback (most recent call last)",
      "Cell \u001b[1;32mIn[10], line 41\u001b[0m\n\u001b[0;32m     37\u001b[0m     \u001b[38;5;28;01mreturn\u001b[39;00m (x, x, z\u001b[38;5;241m+\u001b[39mx)\n\u001b[0;32m     40\u001b[0m \u001b[38;5;66;03m# draw_model(polygon_map(compose(rotate_x_by(pi/2.), rotate_z_by(pi/2.)), load_triangles()))\u001b[39;00m\n\u001b[1;32m---> 41\u001b[0m \u001b[43mdraw_model\u001b[49m\u001b[43m(\u001b[49m\u001b[43mpolygon_map\u001b[49m\u001b[43m(\u001b[49m\u001b[43mcompose\u001b[49m\u001b[43m(\u001b[49m\u001b[43mrotate_z_by\u001b[49m\u001b[43m(\u001b[49m\u001b[43mpi\u001b[49m\u001b[38;5;241;43m/\u001b[39;49m\u001b[38;5;241;43m2.\u001b[39;49m\u001b[43m)\u001b[49m\u001b[43m,\u001b[49m\u001b[43m \u001b[49m\u001b[43mrotate_x_by\u001b[49m\u001b[43m(\u001b[49m\u001b[43mpi\u001b[49m\u001b[38;5;241;43m/\u001b[39;49m\u001b[38;5;241;43m2.\u001b[39;49m\u001b[43m)\u001b[49m\u001b[43m)\u001b[49m\u001b[43m,\u001b[49m\u001b[43m \u001b[49m\u001b[43mload_triangles\u001b[49m\u001b[43m(\u001b[49m\u001b[43m)\u001b[49m\u001b[43m)\u001b[49m\u001b[43m)\u001b[49m\n\u001b[0;32m     42\u001b[0m \u001b[38;5;66;03m# draw_model(polygon_map(compose(rotate_x_by(pi/4.), rotate_z_by(pi/2.)), load_triangles()))\u001b[39;00m\n\u001b[0;32m     43\u001b[0m \u001b[38;5;66;03m# draw_model(polygon_map(compose(rotate_z_by(pi/2.), rotate_x_by(pi/4.)), load_triangles()))\u001b[39;00m\n\u001b[0;32m     44\u001b[0m \n\u001b[1;32m   (...)\u001b[0m\n\u001b[0;32m     53\u001b[0m \u001b[38;5;66;03m# draw_model(polygon_map(rotate_x_by(pi/2.), load_triangles()))\u001b[39;00m\n\u001b[0;32m     54\u001b[0m \u001b[38;5;66;03m# draw_model(polygon_map(rotate_x_by(pi), load_triangles()))\u001b[39;00m\n",
      "File \u001b[1;32md:\\code\\Course\\Algorithm\\2025_spring\\ch4\\draw_model.py:54\u001b[0m, in \u001b[0;36mdraw_model\u001b[1;34m(faces, color_map, light, glRotatefArgs, get_matrix)\u001b[0m\n\u001b[0;32m     52\u001b[0m     \u001b[38;5;28;01mif\u001b[39;00m event\u001b[38;5;241m.\u001b[39mtype \u001b[38;5;241m==\u001b[39m pygame\u001b[38;5;241m.\u001b[39mQUIT:\n\u001b[0;32m     53\u001b[0m         pygame\u001b[38;5;241m.\u001b[39mquit()\n\u001b[1;32m---> 54\u001b[0m         \u001b[43mquit\u001b[49m()\n\u001b[0;32m     56\u001b[0m glClear(GL_COLOR_BUFFER_BIT\u001b[38;5;241m|\u001b[39mGL_DEPTH_BUFFER_BIT)\n\u001b[0;32m     57\u001b[0m Axes()\n",
      "\u001b[1;31mNameError\u001b[0m: name 'quit' is not defined"
     ]
    }
   ],
   "source": [
    "from teapot import load_triangles\n",
    "from draw_model import draw_model\n",
    "from vectors import to_polar, to_cartesian\n",
    "from math import pi\n",
    "\n",
    "####################################################################\n",
    "#### this code takes a snapshot to reproduce the exact figure \n",
    "#### shown in the book as an image saved in the \"figs\" directory\n",
    "#### to run it, run this script with command line arg --snapshot\n",
    "import sys\n",
    "import camera\n",
    "if '--snapshot' in sys.argv:\n",
    "    camera.default_camera = camera.Camera('fig_4.4_draw_teapot',[0])\n",
    "####################################################################\n",
    "\n",
    "def rotate2d(angle, vector):\n",
    "    l,a = to_polar(vector)\n",
    "    return to_cartesian((l, a+angle))\n",
    "\n",
    "\n",
    "def rotate_z(angle, vector):\n",
    "    x,y,z = vector\n",
    "    new_x, new_y = rotate2d(angle, (x,y))\n",
    "    return new_x, new_y, z\n",
    "\n",
    "def rotate_z_by(angle):\n",
    "    def new_function(v):\n",
    "        return rotate_z(angle,v)\n",
    "    return new_function\n",
    "\n",
    "def slant_xy(vector):\n",
    "    x,y,z = vector\n",
    "    return (x, x+y, z)\n",
    "\t\n",
    "def slant_xz(vector):\n",
    "    x,y,z = vector\n",
    "    return (x, x, z+x)\n",
    "\n",
    "\n",
    "draw_model(polygon_map(compose(rotate_x_by(pi/2.), rotate_z_by(pi/2.)), load_triangles()))\n",
    "# draw_model(polygon_map(compose(rotate_z_by(pi/2.), rotate_x_by(pi/2.)), load_triangles()))\n",
    "# draw_model(polygon_map(compose(rotate_x_by(pi/4.), rotate_z_by(pi/2.)), load_triangles()))\n",
    "# draw_model(polygon_map(compose(rotate_z_by(pi/2.), rotate_x_by(pi/4.)), load_triangles()))\n",
    "\n",
    "# draw_model(polygon_map(slant_xy, load_triangles()))\n",
    "# draw_model(polygon_map(slant_xz, load_triangles()))\n",
    "\n",
    "# draw_model(polygon_map(rotate_z_by(pi/4.), load_triangles()))\n",
    "# draw_model(polygon_map(rotate_z_by(pi/2.), load_triangles()))\n",
    "# draw_model(polygon_map(rotate_z_by(pi), load_triangles()))\n",
    "\n",
    "# draw_model(polygon_map(rotate_x_by(pi/4.), load_triangles()))\n",
    "# draw_model(polygon_map(rotate_x_by(pi/2.), load_triangles()))\n",
    "# draw_model(polygon_map(rotate_x_by(pi), load_triangles()))\n"
   ]
  },
  {
   "cell_type": "markdown",
   "metadata": {},
   "source": [
    "## 4.1.4 다른 기하학적인 변화들"
   ]
  },
  {
   "cell_type": "code",
   "execution_count": 14,
   "metadata": {},
   "outputs": [],
   "source": [
    "def stretch_x(vector):\n",
    "    x,y,z = vector\n",
    "    return (4.*x, y, z)"
   ]
  },
  {
   "cell_type": "code",
   "execution_count": 15,
   "metadata": {},
   "outputs": [
    {
     "name": "stdout",
     "output_type": "stream",
     "text": [
      "pygame 2.6.1 (SDL 2.28.4, Python 3.12.3)\n",
      "Hello from the pygame community. https://www.pygame.org/contribute.html\n"
     ]
    }
   ],
   "source": [
    "!python stretch_teapot.py"
   ]
  },
  {
   "cell_type": "code",
   "execution_count": 16,
   "metadata": {},
   "outputs": [
    {
     "name": "stdout",
     "output_type": "stream",
     "text": [
      "pygame 2.6.1 (SDL 2.28.4, Python 3.12.3)\n",
      "Hello from the pygame community. https://www.pygame.org/contribute.html\n"
     ]
    }
   ],
   "source": [
    "!python stretch_teapot_y.py"
   ]
  },
  {
   "cell_type": "code",
   "execution_count": 17,
   "metadata": {},
   "outputs": [
    {
     "name": "stdout",
     "output_type": "stream",
     "text": [
      "pygame 2.6.1 (SDL 2.28.4, Python 3.12.3)\n",
      "Hello from the pygame community. https://www.pygame.org/contribute.html\n"
     ]
    }
   ],
   "source": [
    "!python cube_teapot.py"
   ]
  },
  {
   "cell_type": "code",
   "execution_count": 18,
   "metadata": {},
   "outputs": [],
   "source": [
    "def slant_xy(vector):\n",
    "    x,y,z = vector\n",
    "    return (x+y, y, z)"
   ]
  },
  {
   "cell_type": "code",
   "execution_count": 19,
   "metadata": {},
   "outputs": [
    {
     "name": "stdout",
     "output_type": "stream",
     "text": [
      "pygame 2.6.1 (SDL 2.28.4, Python 3.12.3)\n",
      "Hello from the pygame community. https://www.pygame.org/contribute.html\n"
     ]
    }
   ],
   "source": [
    "!python slant_teapot.py"
   ]
  },
  {
   "cell_type": "markdown",
   "metadata": {},
   "source": [
    "## 4.1.5 Exercises"
   ]
  },
  {
   "cell_type": "markdown",
   "metadata": {},
   "source": [
    "**Exercise:** `translate_by` 함수를 구현하시오. 이는 평행 이동 벡터를 입력으로 받고 평행이동 함수를 출력하는 함수이다."
   ]
  },
  {
   "cell_type": "code",
   "execution_count": 16,
   "metadata": {},
   "outputs": [],
   "source": [
    "def translate_by(translation):\n",
    "    def new_function(v):\n",
    "        return add(translation,v)\n",
    "    return new_function"
   ]
  },
  {
   "cell_type": "markdown",
   "metadata": {},
   "source": [
    "**Exercise:** `compose` 함수를 활용하여 객체를 z 축 회전이후 x 축 회전하는 함수를 만들어라. 주전자를 변환한 결과를 보여라."
   ]
  },
  {
   "cell_type": "code",
   "execution_count": 9,
   "metadata": {},
   "outputs": [
    {
     "ename": "SyntaxError",
     "evalue": "invalid syntax (1127745494.py, line 13)",
     "output_type": "error",
     "traceback": [
      "\u001b[1;36m  Cell \u001b[1;32mIn[9], line 13\u001b[1;36m\u001b[0m\n\u001b[1;33m    return ?, ?, ?\u001b[0m\n\u001b[1;37m           ^\u001b[0m\n\u001b[1;31mSyntaxError\u001b[0m\u001b[1;31m:\u001b[0m invalid syntax\n"
     ]
    }
   ],
   "source": [
    "from math import pi\n",
    "from teapot import load_triangles\n",
    "from draw_model import draw_model\n",
    "from vectors import to_polar, to_cartesian\n",
    "\n",
    "def rotate2d(angle, vector):\n",
    "    l,a = to_polar(vector)\n",
    "    return to_cartesian((l, a+angle))\n",
    "\n",
    "def rotate_z(angle, vector):\n",
    "    x,y,z = vector\n",
    "    ?, ? = rotate2d(angle, (?,?))\n",
    "    return ?, ?, ?\n",
    "\n",
    "def rotate_z_by(angle):\n",
    "    def new_function(v):\n",
    "        return rotate_z(angle,v)\n",
    "    return new_function\n",
    "\n",
    "rotate_x_z = compose(?, ?)\n",
    "\n",
    "draw_model(polygon_map(rotate_x_z, load_triangles()))"
   ]
  },
  {
   "cell_type": "markdown",
   "metadata": {},
   "source": [
    "# 4.2 선형변환"
   ]
  },
  {
   "cell_type": "code",
   "execution_count": 1,
   "metadata": {},
   "outputs": [],
   "source": [
    "from vectors import add,scale"
   ]
  },
  {
   "cell_type": "code",
   "execution_count": 2,
   "metadata": {},
   "outputs": [],
   "source": [
    "Ae1 = (1,1,1) #1\n",
    "Ae2 = (1,0,-1)\n",
    "Ae3 = (0,1,1)\n",
    "\n",
    "def apply_A(v): #2\n",
    "    return add( #3\n",
    "        scale(v[0], Ae1),\n",
    "        scale(v[1], Ae2),\n",
    "        scale(v[2], Ae3)\n",
    "    )"
   ]
  },
  {
   "cell_type": "code",
   "execution_count": 3,
   "metadata": {},
   "outputs": [
    {
     "name": "stdout",
     "output_type": "stream",
     "text": [
      "pygame 2.6.1 (SDL 2.28.4, Python 3.9.13)\n",
      "Hello from the pygame community. https://www.pygame.org/contribute.html\n"
     ]
    }
   ],
   "source": [
    "!python linear_transform_teapot.py"
   ]
  },
  {
   "cell_type": "markdown",
   "metadata": {},
   "source": [
    "## 4.2.5 Exercises"
   ]
  },
  {
   "cell_type": "markdown",
   "metadata": {},
   "source": [
    "**Exercise:** 주어진 3차원 변환(transform)에 의해 변환된 표준 기저 (1,0,0), (0,1,0), (0,0,1)를 출력하는 함수 `transform_standard_basis(transform)` 를 작성하시오."
   ]
  },
  {
   "cell_type": "code",
   "execution_count": null,
   "metadata": {},
   "outputs": [],
   "source": [
    "def transform_standard_basis(transform):\n",
    "    return ??"
   ]
  },
  {
   "cell_type": "code",
   "execution_count": 13,
   "metadata": {},
   "outputs": [],
   "source": [
    "from math import *\n",
    "from vectors import to_polar, to_cartesian\n",
    "\n",
    "def rotate2d(angle, vector):\n",
    "    l,a = to_polar(vector)\n",
    "    return to_cartesian((l, a+angle))"
   ]
  },
  {
   "cell_type": "code",
   "execution_count": 14,
   "metadata": {},
   "outputs": [
    {
     "data": {
      "text/plain": [
       "((1, 0.0, 0.0),\n",
       " (0, 6.123233995736766e-17, 1.0),\n",
       " (0, -1.0, 1.2246467991473532e-16))"
      ]
     },
     "execution_count": 14,
     "metadata": {},
     "output_type": "execute_result"
    }
   ],
   "source": [
    "transform_standard_basis(rotate_x_by(pi/2))"
   ]
  }
 ],
 "metadata": {
  "kernelspec": {
   "display_name": ".venv",
   "language": "python",
   "name": "python3"
  },
  "language_info": {
   "codemirror_mode": {
    "name": "ipython",
    "version": 3
   },
   "file_extension": ".py",
   "mimetype": "text/x-python",
   "name": "python",
   "nbconvert_exporter": "python",
   "pygments_lexer": "ipython3",
   "version": "3.9.13"
  }
 },
 "nbformat": 4,
 "nbformat_minor": 2
}
