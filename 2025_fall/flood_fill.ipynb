{
 "cells": [
  {
   "cell_type": "markdown",
   "id": "6bd45a9e",
   "metadata": {},
   "source": [
    "## 홍수 채우기\n",
    "\n",
    "시작점부터 같은 색으로 연결된 영역을 다른 색으로 채우는 알고리즘입니다.<br>\n",
    "2차원 리스트로 구성되어 있는 grid를 이용합니다.<br>\n",
    "\n",
    "아래 코드는 그림을 그리기 위한 코드입니다.\n"
   ]
  },
  {
   "cell_type": "code",
   "execution_count": 1,
   "id": "4a07895c",
   "metadata": {},
   "outputs": [],
   "source": [
    "# 그림 코드\n",
    "def print_grid(grid):\n",
    "    for row in grid:\n",
    "        line = \"\"\n",
    "        for cell in row:\n",
    "            if cell == 0:\n",
    "                line += \"■ \"\n",
    "            elif cell == 1:\n",
    "                line += \"□ \"\n",
    "            elif cell == 2:\n",
    "                line += \"x \"\n",
    "            elif cell == 5:\n",
    "                line += \"★ \"\n",
    "            else:\n",
    "                line += \"? \"\n",
    "        print(line)"
   ]
  },
  {
   "cell_type": "markdown",
   "id": "80a1075d",
   "metadata": {},
   "source": [
    "주어진 grid 는 다음과 같습니다. (변경 가능)"
   ]
  },
  {
   "cell_type": "code",
   "execution_count": 5,
   "id": "3bbb2611",
   "metadata": {},
   "outputs": [
    {
     "name": "stdout",
     "output_type": "stream",
     "text": [
      "■ □ □ □ □ □ \n",
      "x ■ □ □ ■ ■ \n",
      "x ■ □ ■ ■ □ \n",
      "x ■ ■ □ □ □ \n",
      "■ □ ■ □ □ □ \n",
      "□ □ ■ □ □ □ \n"
     ]
    }
   ],
   "source": [
    "grid = [\n",
    "    [0,1,1,1,1,1],\n",
    "    [2,0,1,1,0,0],\n",
    "    [2,0,1,0,0,1],\n",
    "    [2,0,0,1,1,1],\n",
    "    [0,1,0,1,1,1],\n",
    "    [1,1,0,1,1,1],\n",
    "]\n",
    "\n",
    "print_grid(grid)"
   ]
  },
  {
   "cell_type": "markdown",
   "id": "8f1d5fd2",
   "metadata": {},
   "source": [
    "아래에 fill 함수 내부를 목적에 맞게 작성하세요."
   ]
  },
  {
   "cell_type": "code",
   "execution_count": null,
   "id": "c654615d",
   "metadata": {},
   "outputs": [],
   "source": [
    "def fill(y, x, color, targetColor):\n",
    "    pass"
   ]
  },
  {
   "cell_type": "markdown",
   "id": "11ab4a6b",
   "metadata": {},
   "source": [
    "테스트 해봅시다."
   ]
  },
  {
   "cell_type": "code",
   "execution_count": null,
   "id": "7e2e8297",
   "metadata": {},
   "outputs": [
    {
     "name": "stdout",
     "output_type": "stream",
     "text": [
      "=== Before fill ===\n",
      "■ □ □ □ □ □ \n",
      "x ■ □ □ ■ ■ \n",
      "x ■ □ ■ ■ □ \n",
      "x ■ ■ □ □ □ \n",
      "■ □ ■ □ □ □ \n",
      "□ □ ■ □ □ □ \n",
      "\n",
      "=== After fill ===\n",
      "■ □ □ □ □ □ \n",
      "★ ■ □ □ ■ ■ \n",
      "★ ■ □ ■ ■ □ \n",
      "★ ■ ■ □ □ □ \n",
      "■ □ ■ □ □ □ \n",
      "□ □ ■ □ □ □ \n"
     ]
    }
   ],
   "source": [
    "print(\"=== Before fill ===\")\n",
    "print_grid(grid)\n",
    "\n",
    "fill(1, 0, grid[1][0], 5)\n",
    "\n",
    "print(\"\\n=== After fill ===\")\n",
    "print_grid(grid)"
   ]
  }
 ],
 "metadata": {
  "kernelspec": {
   "display_name": ".venv",
   "language": "python",
   "name": "python3"
  },
  "language_info": {
   "codemirror_mode": {
    "name": "ipython",
    "version": 3
   },
   "file_extension": ".py",
   "mimetype": "text/x-python",
   "name": "python",
   "nbconvert_exporter": "python",
   "pygments_lexer": "ipython3",
   "version": "3.11.9"
  }
 },
 "nbformat": 4,
 "nbformat_minor": 5
}
