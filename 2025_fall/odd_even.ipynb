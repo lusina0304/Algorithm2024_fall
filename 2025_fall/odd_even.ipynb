{
 "cells": [
  {
   "cell_type": "markdown",
   "id": "b42901c2",
   "metadata": {},
   "source": [
    "## 홀수와 짝수로 정렬하기\n",
    "\n",
    "정수로 구성된 배열이 주어집니다. 이 배열에 존재하는 모든 짝수를 배열의 앞에, 홀수를 그 뒤쪽에 배치해야 합니다. 짝수와 홀수로 구분된 정수는 정렬이 되어있지 않아도 됩니다. <br>\n",
    "예를들어, ```[5, 3, 8, 12]``` 라는 4개의 정수가 주어졌을 때 ```[12, 8, 5, 3]``` 도 ```[8, 12, 3, 5]``` 도 모두 유효한 결과로 간주합니다. <br>\n",
    "단, 추가 공간을 할당하지 않고 해결하는 것이 이 문제의 조건입니다.\n",
    "\n"
   ]
  },
  {
   "cell_type": "code",
   "execution_count": null,
   "id": "48c35c6e",
   "metadata": {},
   "outputs": [],
   "source": [
    "def sort_even_odd(nums: list[int]) -> list[int]:\n",
    "    pass"
   ]
  },
  {
   "cell_type": "code",
   "execution_count": 7,
   "id": "c2f7fb7f",
   "metadata": {},
   "outputs": [
    {
     "name": "stdout",
     "output_type": "stream",
     "text": [
      "[8, 12, 5, 3]\n"
     ]
    }
   ],
   "source": [
    "# 테스트 코드\n",
    "\n",
    "nums = [5, 3, 8, 12]\n",
    "\n",
    "print(sort_even_odd(nums))"
   ]
  }
 ],
 "metadata": {
  "kernelspec": {
   "display_name": ".venv",
   "language": "python",
   "name": "python3"
  },
  "language_info": {
   "codemirror_mode": {
    "name": "ipython",
    "version": 3
   },
   "file_extension": ".py",
   "mimetype": "text/x-python",
   "name": "python",
   "nbconvert_exporter": "python",
   "pygments_lexer": "ipython3",
   "version": "3.9.13"
  }
 },
 "nbformat": 4,
 "nbformat_minor": 5
}
