{
 "cells": [
  {
   "cell_type": "markdown",
   "id": "25c55a1a",
   "metadata": {},
   "source": [
    "## 괄호 생성하기\n",
    "\n",
    "열고 닫는 괄호의 개수가 입력되면 생성 가능한 모든 괄호의 조합을 생성하여 반환하는 문제입니다. 단, 괄호는 반드시 여닫는 기호가 쌍을 이루어야 합니다.<br>\n",
    "예를 들어, 다음과 같이 n이 2로 입력되면 2쌍의 괄호가 생성할 수 있는 조합은 ```(()), ()()```가 됩니다.<br>\n",
    "열린 괄호와 닫힌 괄호가 쌍을 이루어야 유효하다고 판단합니다. 즉, )(와 같은 결과는 유효하지 않은것으로 간주하고 결과에 포함하지 않아야 합니다. <br>\n",
    "기본 코드는 아래와 같습니다. generate 함수 내부를 작성하세요."
   ]
  },
  {
   "cell_type": "code",
   "execution_count": null,
   "id": "66385bc4",
   "metadata": {},
   "outputs": [
    {
     "name": "stdout",
     "output_type": "stream",
     "text": [
      "['(())', '()()']\n"
     ]
    }
   ],
   "source": [
    "def generate(open_cnt, close_cnt, sequence, results):\n",
    "    pass\n",
    "\n",
    "n = 2\n",
    "results = []\n",
    "generate(0, 0, '', results)\n",
    "print(results)"
   ]
  }
 ],
 "metadata": {
  "kernelspec": {
   "display_name": ".venv",
   "language": "python",
   "name": "python3"
  },
  "language_info": {
   "codemirror_mode": {
    "name": "ipython",
    "version": 3
   },
   "file_extension": ".py",
   "mimetype": "text/x-python",
   "name": "python",
   "nbconvert_exporter": "python",
   "pygments_lexer": "ipython3",
   "version": "3.9.13"
  }
 },
 "nbformat": 4,
 "nbformat_minor": 5
}
