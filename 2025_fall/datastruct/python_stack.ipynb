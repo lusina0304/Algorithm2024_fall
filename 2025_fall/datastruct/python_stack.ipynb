{
 "cells": [
  {
   "cell_type": "markdown",
   "id": "d109e8b6",
   "metadata": {},
   "source": [
    "## 스택 (Stack)\n",
    "\n",
    "리스트를 이용한 스택"
   ]
  },
  {
   "cell_type": "code",
   "execution_count": null,
   "id": "fc73b670",
   "metadata": {},
   "outputs": [],
   "source": [
    "class ListStack:\n",
    "\tdef __init__(self):\n",
    "\t\tself.__stack = []\n",
    "\n",
    "\tdef push(self, x):\n",
    "\t\tself.__stack.append(x)\n",
    "\n",
    "\tdef pop(self):\n",
    "\t\treturn self.__stack.pop()\n",
    "\n",
    "\tdef top(self):\n",
    "\t\tif self.isEmpty():\n",
    "\t\t\treturn None\n",
    "\t\telse:\n",
    "\t\t\treturn self.__stack[-1]\n",
    "\n",
    "\tdef isEmpty(self) -> bool:\n",
    "\t\treturn not bool(self.__stack)\n",
    "\n",
    "\tdef popAll(self):\n",
    "\t\tself.__stack.clear() \n",
    "\n",
    "\tdef printStack(self):\n",
    "\t\tprint(\"Stack from top:\", end = ' ')\n",
    "\t\tfor i in range(len(self.__stack)-1, -1, -1):\n",
    "\t\t\tprint(self.__stack[i], end = ' ')\n",
    "\t\tprint()"
   ]
  },
  {
   "cell_type": "code",
   "execution_count": 3,
   "id": "65583b23",
   "metadata": {},
   "outputs": [
    {
     "name": "stdout",
     "output_type": "stream",
     "text": [
      "None\n",
      "Top is 200\n",
      "Stack from top: Monday 100 \n",
      "isEmpty? False\n"
     ]
    }
   ],
   "source": [
    "# 테스트 코드\n",
    "\n",
    "st1 = ListStack()\n",
    "print(st1.top())\t# No effect\n",
    "st1.push(100)\n",
    "st1.push(200)\n",
    "print(\"Top is\", st1.top())\n",
    "st1.pop()\n",
    "st1.push('Monday')\n",
    "st1.printStack()\n",
    "print('isEmpty?', st1.isEmpty())"
   ]
  },
  {
   "cell_type": "markdown",
   "id": "fbe8cff8",
   "metadata": {},
   "source": [
    "연결 리스트를 활용한 스택 구현"
   ]
  },
  {
   "cell_type": "code",
   "execution_count": null,
   "id": "715b6317",
   "metadata": {},
   "outputs": [],
   "source": [
    "import httpimport\n",
    "\n",
    "with httpimport.remote_repo('https://raw.githubusercontent.com/lusina0304/Algorithm2024_fall/refs/heads/main/2025_fall/datastruct/'):\n",
    "  from linkedListBasic import *\n",
    "\n",
    "class LinkedStack:\n",
    "\tdef __init__(self):\n",
    "\t\tself.__list = LinkedListBasic()\n",
    "\n",
    "\tdef push(self, newItem):\n",
    "\t\tself.__list.insert(0, newItem)\n",
    "\n",
    "\tdef pop(self):\n",
    "\t\treturn self.__list.pop(0)\n",
    "\n",
    "\tdef top(self):\n",
    "\t\tif self.isEmpty():\n",
    "\t\t\treturn None\n",
    "\t\telse:\n",
    "\t\t\treturn self.__list.get(0)\n",
    "\n",
    "\tdef isEmpty(self) -> bool:\n",
    "\t\treturn self.__list.isEmpty()\n",
    "\n",
    "\tdef popAll(self):\n",
    "\t\tself.__list.clear()\n",
    "\n",
    "\tdef printStack(self):\n",
    "\t\tprint(\"Stack from top:\", end = '')\n",
    "\t\tfor i in range(self.__list.size()):\n",
    "\t\t\tprint(self.__list.get(i), end = '')\n",
    "\t\tprint()\n",
    "\n",
    "# 코드 6-13"
   ]
  },
  {
   "cell_type": "code",
   "execution_count": 13,
   "id": "9857fa9a",
   "metadata": {},
   "outputs": [
    {
     "name": "stdout",
     "output_type": "stream",
     "text": [
      "Top is 200\n",
      "Stack from top:Monday100\n",
      "isEmpty? False\n"
     ]
    }
   ],
   "source": [
    "# 테스트 코드\n",
    "\n",
    "st1 = LinkedStack()\n",
    "st1.push(100)\n",
    "st1.push(200)\n",
    "print(\"Top is\", st1.top())\n",
    "st1.pop()\n",
    "st1.push('Monday')\n",
    "st1.printStack()\n",
    "print('isEmpty?', st1.isEmpty())"
   ]
  },
  {
   "cell_type": "markdown",
   "id": "cf6fa99c",
   "metadata": {},
   "source": [
    "### 실습 응용\n",
    "\n",
    "1. 문자열 뒤집기"
   ]
  },
  {
   "cell_type": "code",
   "execution_count": null,
   "id": "06ac92b3",
   "metadata": {},
   "outputs": [
    {
     "name": "stdout",
     "output_type": "stream",
     "text": [
      "Input string:  Test Seq 12345\n",
      "Reversed string:  54321 qeS tseT\n"
     ]
    }
   ],
   "source": [
    "def reverse(str):\n",
    "\tpass\n",
    "\n",
    "\n",
    "# 테스트 코드\n",
    "input = \"Test Seq 12345\"  # 테스트 입력 문자열 String\n",
    "answer = reverse(input)\n",
    "print(\"Input string: \", input)\n",
    "print(\"Reversed string: \", answer)\n"
   ]
  },
  {
   "cell_type": "markdown",
   "id": "482e0b08",
   "metadata": {},
   "source": [
    "2. 괄호 검사"
   ]
  },
  {
   "cell_type": "code",
   "execution_count": null,
   "id": "5db0e1d2",
   "metadata": {},
   "outputs": [
    {
     "name": "stdout",
     "output_type": "stream",
     "text": [
      "{A[(i+1)]=0;}        -> 정상\n",
      "if((i==0) && (j==0)  -> 오류(조건1 위반)\n",
      "while(n<8)){n++;}    -> 오류(조건2 위반)\n",
      "arr[(i+1]) = 0;      -> 오류(조건3 위반)\n"
     ]
    }
   ],
   "source": [
    "# 괄호 검사기: 0=정상, 1=조건1 위반(여는 괄호 남음), 2=조건2 위반(닫는 괄호 과잉), 3=조건3 위반(불일치)\n",
    "\n",
    "def check_matching(expr: str) -> int:\n",
    "    \"\"\"\n",
    "    expr 문자열의 괄호 짝을 검사한다.\n",
    "    반환값:\n",
    "      0: 괄호 정상\n",
    "      1: 조건 1 위반 - 스택이 비지 않음(여는 괄호가 남음)\n",
    "      2: 조건 2 위반 - 비었는데 닫는 괄호가 나옴\n",
    "      3: 조건 3 위반 - 괄호 종류 불일치\n",
    "    \"\"\"\n",
    "    stack = []\n",
    "    opens  = {'[', '(', '{'}\n",
    "    pairs  = {']': '[', ')': '(', '}': '{'}\n",
    "\n",
    "    pass\n",
    "\n",
    "\n",
    "\n",
    "exprs = [\n",
    "    \"{A[(i+1)]=0;}\",\n",
    "    \"if((i==0) && (j==0)\",\n",
    "    \"while(n<8)){n++;}\",\n",
    "    \"arr[(i+1]) = 0;\"\n",
    "]\n",
    "\n",
    "for s in exprs:\n",
    "    err = check_matching(s)\n",
    "    if err == 0:\n",
    "        print(f\"{s:<20} -> 정상\")\n",
    "    else:\n",
    "        print(f\"{s:<20} -> 오류(조건{err} 위반)\")"
   ]
  },
  {
   "cell_type": "markdown",
   "id": "3567c0a8",
   "metadata": {},
   "source": [
    "3. 후위 표기식 계산"
   ]
  },
  {
   "cell_type": "code",
   "execution_count": null,
   "id": "7f37b0d6",
   "metadata": {},
   "outputs": [
    {
     "name": "stdout",
     "output_type": "stream",
     "text": [
      "Input string:  700 3 47 + 6 * - 4 /\n",
      "Answer:  100\n",
      "48 57\n"
     ]
    }
   ],
   "source": [
    "def evaluate(p):\n",
    "\ts = ListStack()\n",
    "\tpass\n",
    "\treturn s.pop()\n",
    "\n",
    "def isOperator(ch) -> bool:  # 연산자인가?\n",
    "\treturn (ch == '+' or ch == '-' or ch == '*' or ch == '/')\n",
    "\n",
    "def operation(opr2:int, opr1:int, ch) -> int:  # 연산하기\n",
    "\t\treturn {'+': opr1 + opr2, '-': opr1 - opr2, '*': opr1 * opr2, '/': opr1 // opr2}[ch]\n",
    "\n",
    "\n",
    "postfix = \"700 3 47 + 6 * - 4 /\"  # 테스트 샘플 입력(후위 표현식)\n",
    "print(\"Input string: \", postfix);\n",
    "answer = evaluate(postfix)\n",
    "print(\"Answer: \", answer)\n",
    "print(ord('0'), ord('9'))"
   ]
  },
  {
   "cell_type": "markdown",
   "id": "518e8be6",
   "metadata": {},
   "source": [
    "4. 중위 표기식을 중위 표기식으로 바꾸기"
   ]
  },
  {
   "cell_type": "code",
   "execution_count": null,
   "id": "3cf02de8",
   "metadata": {},
   "outputs": [
    {
     "name": "stdout",
     "output_type": "stream",
     "text": [
      "중위수식: 8 / 2 - 3 + (3 * 2) ==> 후위수식:8 2 / 3 - 3 2 * + \n",
      "중위수식: 1 / 2 * 4 * (1 / 4) ==> 후위수식:1 2 / 4 * 1 4 / * \n"
     ]
    }
   ],
   "source": [
    "# 우선 순위\n",
    "def precedence(op: str) -> int:\n",
    "    if op in ('(', ')'):\n",
    "        return 0\n",
    "    if op in ('+', '-'):\n",
    "        return 1\n",
    "    if op in ('*', '/'):\n",
    "        return 2\n",
    "    return -1\n",
    "\n",
    "def infix_to_postfix(expr: str) -> str:\n",
    "    stack = []\n",
    "    out_tokens = []\n",
    "\n",
    "    pass\n",
    "\n",
    "    return \" \".join(out_tokens) + \" \"\n",
    "\n",
    "\n",
    "# 테스트 코드\n",
    "exprs = [\"8 / 2 - 3 + (3 * 2)\", \"1 / 2 * 4 * (1 / 4)\"]\n",
    "\n",
    "print(f\"중위수식: {exprs[0]} ==> 후위수식:\", end=\"\")\n",
    "print(infix_to_postfix(exprs[0]))\n",
    "print(f\"중위수식: {exprs[1]} ==> 후위수식:\", end=\"\")\n",
    "print(infix_to_postfix(exprs[1]))\n"
   ]
  },
  {
   "cell_type": "markdown",
   "id": "a3e34726",
   "metadata": {},
   "source": [
    "5. 하노이의 탑\n"
   ]
  },
  {
   "cell_type": "code",
   "execution_count": 23,
   "id": "2d75b75c",
   "metadata": {},
   "outputs": [
    {
     "name": "stdout",
     "output_type": "stream",
     "text": [
      "원판 1: A --> B\n",
      "원판 2: A --> C\n",
      "원판 1: B --> C\n",
      "원판 3: A --> B\n",
      "원판 1: C --> A\n",
      "원판 2: C --> B\n",
      "원판 1: A --> B\n",
      "원판 4: A --> C\n",
      "원판 1: B --> C\n",
      "원판 2: B --> A\n",
      "원판 1: C --> A\n",
      "원판 3: B --> C\n",
      "원판 1: A --> B\n",
      "원판 2: A --> C\n",
      "원판 1: B --> C\n"
     ]
    }
   ],
   "source": [
    "def hanoi_tower(n: int, src: str, aux: str, dst: str) -> None:\n",
    "    if n == 1:\n",
    "        print(f\"원판 1: {src} --> {dst}\")\n",
    "    else:\n",
    "        hanoi_tower(n - 1, src, dst, aux)\n",
    "        print(f\"원판 {n}: {src} --> {dst}\")\n",
    "        hanoi_tower(n - 1, aux, src, dst)\n",
    "\n",
    "hanoi_tower(4, 'A', 'B', 'C')"
   ]
  }
 ],
 "metadata": {
  "kernelspec": {
   "display_name": ".venv",
   "language": "python",
   "name": "python3"
  },
  "language_info": {
   "codemirror_mode": {
    "name": "ipython",
    "version": 3
   },
   "file_extension": ".py",
   "mimetype": "text/x-python",
   "name": "python",
   "nbconvert_exporter": "python",
   "pygments_lexer": "ipython3",
   "version": "3.9.13"
  }
 },
 "nbformat": 4,
 "nbformat_minor": 5
}
