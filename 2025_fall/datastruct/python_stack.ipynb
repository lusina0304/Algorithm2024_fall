{
 "cells": [
  {
   "cell_type": "markdown",
   "id": "d109e8b6",
   "metadata": {},
   "source": [
    "## 스택 (Stack)\n",
    "\n",
    "리스트를 이용한 스택"
   ]
  },
  {
   "cell_type": "code",
   "execution_count": null,
   "id": "fc73b670",
   "metadata": {},
   "outputs": [],
   "source": [
    "class ListStack:\n",
    "\tdef __init__(self):\n",
    "\t\tself.__stack = []\n",
    "\n",
    "\tdef push(self, x):\n",
    "\t\tself.__stack.append(x)\n",
    "\n",
    "\tdef pop(self):\n",
    "\t\treturn self.__stack.pop()\n",
    "\n",
    "\tdef top(self):\n",
    "\t\tif self.isEmpty():\n",
    "\t\t\treturn None\n",
    "\t\telse:\n",
    "\t\t\treturn self.__stack[-1]\n",
    "\n",
    "\tdef isEmpty(self) -> bool:\n",
    "\t\treturn not bool(self.__stack)\n",
    "\n",
    "\tdef popAll(self):\n",
    "\t\tself.__stack.clear() \n",
    "\n",
    "\tdef printStack(self):\n",
    "\t\tprint(\"Stack from top:\", end = ' ')\n",
    "\t\tfor i in range(len(self.__stack)-1, -1, -1):\n",
    "\t\t\tprint(self.__stack[i], end = ' ')\n",
    "\t\tprint()"
   ]
  },
  {
   "cell_type": "code",
   "execution_count": 3,
   "id": "65583b23",
   "metadata": {},
   "outputs": [
    {
     "name": "stdout",
     "output_type": "stream",
     "text": [
      "None\n",
      "Top is 200\n",
      "Stack from top: Monday 100 \n",
      "isEmpty? False\n"
     ]
    }
   ],
   "source": [
    "# 테스트 코드\n",
    "\n",
    "st1 = ListStack()\n",
    "print(st1.top())\t# No effect\n",
    "st1.push(100)\n",
    "st1.push(200)\n",
    "print(\"Top is\", st1.top())\n",
    "st1.pop()\n",
    "st1.push('Monday')\n",
    "st1.printStack()\n",
    "print('isEmpty?', st1.isEmpty())"
   ]
  },
  {
   "cell_type": "markdown",
   "id": "fbe8cff8",
   "metadata": {},
   "source": [
    "연결 리스트를 활용한 스택 구현"
   ]
  },
  {
   "cell_type": "code",
   "execution_count": 7,
   "id": "715b6317",
   "metadata": {},
   "outputs": [
    {
     "ename": "ModuleNotFoundError",
     "evalue": "No module named 'httpimport'",
     "output_type": "error",
     "traceback": [
      "\u001b[1;31m---------------------------------------------------------------------------\u001b[0m",
      "\u001b[1;31mModuleNotFoundError\u001b[0m                       Traceback (most recent call last)",
      "Cell \u001b[1;32mIn[7], line 1\u001b[0m\n\u001b[1;32m----> 1\u001b[0m \u001b[38;5;28;01mimport\u001b[39;00m\u001b[38;5;250m \u001b[39m\u001b[38;5;21;01mhttpimport\u001b[39;00m\n\u001b[0;32m      3\u001b[0m \u001b[38;5;28;01mwith\u001b[39;00m httpimport\u001b[38;5;241m.\u001b[39mremote_repo(\u001b[38;5;124m'\u001b[39m\u001b[38;5;124mhttps://raw.githubusercontent.com/lusina0304/Algorithm2024_fall/refs/heads/main/2025_fall/datastruct/\u001b[39m\u001b[38;5;124m'\u001b[39m):\n\u001b[0;32m      4\u001b[0m   \u001b[38;5;28;01mfrom\u001b[39;00m\u001b[38;5;250m \u001b[39m\u001b[38;5;21;01mlinkedListBasic\u001b[39;00m\u001b[38;5;250m \u001b[39m\u001b[38;5;28;01mimport\u001b[39;00m \u001b[38;5;241m*\u001b[39m\n",
      "\u001b[1;31mModuleNotFoundError\u001b[0m: No module named 'httpimport'"
     ]
    }
   ],
   "source": [
    "import httpimport\n",
    "\n",
    "with httpimport.remote_repo('https://raw.githubusercontent.com/lusina0304/Algorithm2024_fall/refs/heads/main/2025_fall/datastruct/'):\n",
    "  from linkedListBasic import *\n",
    "# from https://raw.githubusercontent.com/lusina0304/Algorithm2024_fall/refs/heads/main/2025_fall/datastruct/linkedListBasic.py import LinkedList\n",
    "\n",
    "class LinkedStack:\n",
    "\tdef __init__(self):\n",
    "\t\tself.__list = LinkedListBasic()\n",
    "\n",
    "\tdef push(self, newItem):\n",
    "\t\tself.__list.insert(0, newItem)\n",
    "\n",
    "\tdef pop(self):\n",
    "\t\treturn self.__list.pop(0)\n",
    "\n",
    "\tdef top(self):\n",
    "\t\tif self.isEmpty():\n",
    "\t\t\treturn None\n",
    "\t\telse:\n",
    "\t\t\treturn self.__list.get(0)\n",
    "\n",
    "\tdef isEmpty(self) -> bool:\n",
    "\t\treturn self.__list.isEmpty()\n",
    "\n",
    "\tdef popAll(self):\n",
    "\t\tself.__list.clear()\n",
    "\n",
    "\tdef printStack(self):\n",
    "\t\tprint(\"Stack from top:\", end = '')\n",
    "\t\tfor i in range(self.__list.size()):\n",
    "\t\t\tprint(self.__list.get(i), end = '')\n",
    "\t\tprint()\n",
    "\n",
    "# 코드 6-13"
   ]
  }
 ],
 "metadata": {
  "kernelspec": {
   "display_name": ".venv",
   "language": "python",
   "name": "python3"
  },
  "language_info": {
   "codemirror_mode": {
    "name": "ipython",
    "version": 3
   },
   "file_extension": ".py",
   "mimetype": "text/x-python",
   "name": "python",
   "nbconvert_exporter": "python",
   "pygments_lexer": "ipython3",
   "version": "3.9.13"
  }
 },
 "nbformat": 4,
 "nbformat_minor": 5
}
