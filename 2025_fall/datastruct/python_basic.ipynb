{
  "cells": [
    {
      "cell_type": "markdown",
      "metadata": {
        "id": "7WPlPmzcEEIx"
      },
      "source": [
        "# 수업 내용 확인"
      ]
    },
    {
      "cell_type": "markdown",
      "metadata": {
        "id": "oqj4KGWnEEIy"
      },
      "source": [
        "반갑습니다! 파이썬 실습에 오신걸 환영합니다. 앞으로의 실습을 진행하기 위한 파이썬의 기초와 변수 사용법, 리스트 등을 배울 것입니다."
      ]
    },
    {
      "cell_type": "markdown",
      "metadata": {
        "id": "Kf7GgpR6EEIz"
      },
      "source": [
        "## Hello World 프로그램 실행하기"
      ]
    },
    {
      "cell_type": "markdown",
      "metadata": {
        "id": "232-6ImIEEIz"
      },
      "source": [
        "가장 기초적인 \"Hello World 프로그램\"을 입력하고 실행해 봅니다.<br>\n",
        "아직은 프로그램의 의미를 모르겠지만, 간단하게 ``Hello World``라는 문장을 화면에 출력하는 프로그램입니다.<br>\n",
        "아래의 코드를 입력하고 실행해 봅니다.<br>\n",
        "\n",
        "```python\n",
        "print(\"Hello World\")\n",
        "```\n",
        "\n",
        "- **입력**은 아래의 ``In [ ]``으로 표현된 입력창(박스)안에 (위의) Python 프로그램을 타이핑하는 것을 의미하며,<br>\n",
        "- **실행**은 Python 프로그램을 입력한 ``In [ ]``박스안에서, 상단 메뉴의 ``Run`` 단추를 누르거나 ``Control + Enter`` 버튼을 입력하는 것 입니다. <br>\n",
        "\n",
        "``print()`` 문법은 Python에서 괄호안의 내용을 화면에 출력합니다.<br>\n",
        "위의 예제와 같이 ``\"`` ``\"`` 기호로 앞뒤를 감싼 문자열을 주면, 해당 문자열을 그대로 출력합니다.<br>"
      ]
    },
    {
      "cell_type": "code",
      "execution_count": null,
      "metadata": {
        "colab": {
          "base_uri": "https://localhost:8080/"
        },
        "id": "8wn1u8ahEEIz",
        "outputId": "8dcb0a84-6aef-44d0-f5eb-abc097d21c5f"
      },
      "outputs": [
        {
          "name": "stdout",
          "output_type": "stream",
          "text": [
            "Hello World\n"
          ]
        }
      ],
      "source": [
        "print(\"Hello World\")"
      ]
    },
    {
      "cell_type": "markdown",
      "metadata": {
        "id": "YfpPo1iLEEI0"
      },
      "source": [
        "``print(9+1)``과 같이 계산식을 주면, 계산한 결과 값을 화면에 출력하는 기능을 수행합니다.<br>\n",
        "아래의 입력창에서 ``print(9+1)``를 입력하고 실행해 봅니다.<br>"
      ]
    },
    {
      "cell_type": "code",
      "execution_count": null,
      "metadata": {
        "id": "_tkAk1ppEEI0"
      },
      "outputs": [],
      "source": []
    },
    {
      "cell_type": "markdown",
      "metadata": {},
      "source": [
        "``print('x is ', x, \"th\")``과 같이 , 로 여러 입력을 입력할 수 있습니다.<br>"
      ]
    },
    {
      "cell_type": "code",
      "execution_count": 2,
      "metadata": {},
      "outputs": [
        {
          "name": "stdout",
          "output_type": "stream",
          "text": [
            "x is 77 th\n",
            "x is*77*th\n"
          ]
        }
      ],
      "source": [
        "x = 77\n",
        "print('x is', x, \"th\")\n",
        "\n",
        "print('x is', x, \"th\", sep=\"*\")"
      ]
    },
    {
      "cell_type": "markdown",
      "metadata": {
        "id": "ed0BLooaEEI0"
      },
      "source": [
        "## 더하기와 빼기 계산하기"
      ]
    },
    {
      "cell_type": "markdown",
      "metadata": {
        "id": "SG2_jAuZEEI0"
      },
      "source": [
        "Python의 더하기와 빼기 연산자는 이미 수학에서 배운 기호인 ``+``와 ``-``를 동일하게 사용합니다.<br>\n",
        "단순하게 정수들을 더하고 빼는 작업을 해봅니다.<br>\n",
        "다음의 각줄을 '한줄씩' 아래의 입력창에 입력하고 실행하여, 제대로 된 더하기와 빼기 연산이 이루어 지는 것을 확인합니다.<br>\n",
        "```python\n",
        "4 + 13\n",
        "15 - 3\n",
        "```"
      ]
    },
    {
      "cell_type": "code",
      "execution_count": null,
      "metadata": {
        "id": "JlyIhCPmEEI0"
      },
      "outputs": [],
      "source": []
    },
    {
      "cell_type": "markdown",
      "metadata": {
        "id": "T9sYNOhJEEI0"
      },
      "source": [
        "위에서 나타낸 두 연산식을 한줄씩 실행하지 않고, 두줄을 한번에 모두 실행하는 것은 ``print()`` 문법을 사용하여, 다음과 같이 하면 가능합니다.<br>\n",
        "```python\n",
        "print(4 + 13)\n",
        "print(15 - 2)\n",
        "```\n",
        "아래 입력창에 ``print()`` 문법을 사용한 두줄을 한꺼번에 입력해서, 실행해 보기바랍니다."
      ]
    },
    {
      "cell_type": "code",
      "execution_count": null,
      "metadata": {
        "id": "5d-P_pNiEEI1"
      },
      "outputs": [],
      "source": []
    },
    {
      "cell_type": "markdown",
      "metadata": {
        "id": "aobKSuYDEEI1"
      },
      "source": [
        "## 곱하기 계산하기"
      ]
    },
    {
      "cell_type": "markdown",
      "metadata": {
        "id": "_IbsoWyGEEI1"
      },
      "source": [
        "Python의 곱하기 연산자는 수학에서 사용하는 ``x`` 기호가 아닌 ``*`` 기호를 사용합니다.<br>\n",
        "다음을 아래의 입력창에 입력하고 실행하여, 제대로 된 곱하기 연산 이루어 지는 것을 확인합니다.<br>\n",
        "```python\n",
        "9 * 9\n",
        "```"
      ]
    },
    {
      "cell_type": "code",
      "execution_count": null,
      "metadata": {
        "id": "FUQ6noFSEEI1"
      },
      "outputs": [],
      "source": []
    },
    {
      "cell_type": "markdown",
      "metadata": {
        "id": "puk11nddEEI1"
      },
      "source": [
        "## 나누기 계산하기"
      ]
    },
    {
      "cell_type": "markdown",
      "metadata": {
        "id": "hvbbqreoEEI1"
      },
      "source": [
        "Python을 포함한 컴퓨터 프로그래밍 언어의 나누기는 조금 복잡하게 느낄 수 있습니다.<br>\n",
        "Python은 나누기 관련 3개의 연산자가 있습니다.<br>\n",
        "첫번째, ``/``은 Division 연산자라고 하며, 나누기 결과를 실수로 출력하는 수학의 나누기 연산자의 역할을 합니다.<br>\n",
        "두번째, ``//``은 Integer (혹은 floor) Division 연산자라고 하며, 몫을 출력합니다.<br>\n",
        "세번째, ``%``는 Remainder 연산자라고 하며, 나머지를 출력합니다.<br>\n",
        "간단하게 다음의 수식들을 각각 한줄씩 입력하고 실행하여 결과를 확인해 봅니다.<br>\n",
        "```python\n",
        "11 / 2\n",
        "11 // 2\n",
        "8.5 % 3.5\n",
        "```"
      ]
    },
    {
      "cell_type": "code",
      "execution_count": null,
      "metadata": {
        "id": "aMratcMbEEI1",
        "outputId": "6664aa11-c8d4-4044-ca68-8d52d3d662bf"
      },
      "outputs": [],
      "source": []
    },
    {
      "cell_type": "markdown",
      "metadata": {
        "id": "p4K2lLpxEEI1"
      },
      "source": [
        "## 기타 기본 연산자 이해하기"
      ]
    },
    {
      "cell_type": "markdown",
      "metadata": {
        "id": "_IYJxvD6EEI1"
      },
      "source": [
        "Python에서 자주 사용하는 다른 기본 연산자는 ``-``와 ``**``가 있습니다.<br>\n",
        "기호 ``-``가 변수나 숫자의 앞에 있으면, 양수를 음수로 바꾸고, 음수를 양수로 바꾸는 역할(Negation)을 합니다.<br>\n",
        "기호 ``**``는 Exponentiation 연산자라고 하며, 지수 계산을 합니다.<br>\n",
        "간단하게 다음의 수식을 각각 한줄씩 입력하고 실행하여 결과를 확인해 봅니다.<br>\n",
        "```python\n",
        "-5\n",
        "2 ** 5\n",
        "```"
      ]
    },
    {
      "cell_type": "code",
      "execution_count": null,
      "metadata": {
        "id": "woeyJnAfEEI1"
      },
      "outputs": [],
      "source": []
    },
    {
      "cell_type": "markdown",
      "metadata": {
        "id": "itj1tzCdEEI1"
      },
      "source": [
        "Python은 이외에도 다양한 목적의 연산자를 지원합니다.<br>\n",
        "특별히 복수의 연산자가 한줄에 섞여서 사용될 경우에 대한 연산자 우선순위는 다음과 같으며, 상위가 낮은 우선 순위입니다.<br>\n",
        "\n",
        "| Operator | Description |                              \n",
        "|:---:|:---:|\n",
        "| +, - | Addition and subtraction |\n",
        "| \\*, /, //, % | Multiplication, Division, floor division, remainder |\n",
        "| +x, -x | Positive, negative |\n",
        "| ** | Exponentiation |\n",
        "\n",
        "Python은 기본 연산자외에도 다양한 연산자를 지원합니다.<br>\n",
        "각 연산자에 대한 설명과 연산자 간 우선순위에 대해서 구체적으로 알고 싶다면 관련 자료 혹은,<br>\n",
        "Python 공식 언어 웹사이트(<https://docs.python.org/3/reference/expressions.html>)를 방문합니다."
      ]
    },
    {
      "cell_type": "markdown",
      "metadata": {
        "id": "LGZDayu2EEI1"
      },
      "source": [
        "## 기본 데이터 타입 이해하기"
      ]
    },
    {
      "cell_type": "markdown",
      "metadata": {
        "id": "jtOaAIOwEEI2"
      },
      "source": [
        "Python과 같은 컴퓨터 프로그래밍 언어는 무한한 실제 세상을 유한한 컴퓨터의 세상에 담기 위하여, 다양한 데이터 타입을 제공합니다.<br>\n",
        "가장 기초적인 데이터 타입은 수학의 정수(integer), 실수(float) 및 복소수(complex) 입니다.<br>\n",
        "Python 프로그래밍을 하면서, 프로그램에서 사용하는 데이터의 타입을 알고 싶으면 ``type()`` 문법을 사용하면 됩니다.<br>\n",
        "다음의 문장을 각각 한줄씩 입력하고 실행하여 결과를 확인해 보면, ``type()`` 문법으로 숫자의 타입을 출력하는 것을 실습할 수 있습니다.<br>\n",
        "```python\n",
        "type(17)\n",
        "type(17.0)\n",
        "```"
      ]
    },
    {
      "cell_type": "code",
      "execution_count": null,
      "metadata": {
        "id": "3gKtJNx9EEI2"
      },
      "outputs": [],
      "source": []
    },
    {
      "cell_type": "markdown",
      "metadata": {
        "id": "gi7MuYEVEEI2"
      },
      "source": [
        "Python에서 숫자는 기본적으로 위와 같이 십진법을 사용합니다.<br>\n",
        "하지만 필요시에는 8진법 혹은 16진법과 같은 다른 진법을 사용하기도 합니다.<br>\n",
        "이 경우 숫자가 8진법인 경우는 숫자앞에 ``0o``를 붙여서 0o34처럼 십진법의 28을 나타내며,<br>\n",
        "16진법의 경우는 숫자앞에 ``0x``를 붙여서 0x34처럼 십진법의 52을 나타내기도 합니다.<br>\n",
        "위에서 ``0o``의 ``0``는 숫자 ``0``이고, ``o``는 알파벳 ``O``의 소문자 ``o``이며,<br>\n",
        "``0x``의 ``0``는 숫자 ``0``이고, ``x``는 알파벳 ``X``의 소문자 ``x``입니다.<br>\n",
        "다음의 문장을 각각 한줄씩 입력하고 실행하여 결과를 확인하여 실습해보기 바랍니다.<br>\n",
        "```python\n",
        "0o34\n",
        "0x34\n",
        "```"
      ]
    },
    {
      "cell_type": "code",
      "execution_count": null,
      "metadata": {
        "id": "YDHdR9WAEEI2"
      },
      "outputs": [],
      "source": []
    },
    {
      "cell_type": "markdown",
      "metadata": {
        "id": "NDtoSsdQEEI2"
      },
      "source": [
        "## 변수의 개념 이해하기"
      ]
    },
    {
      "cell_type": "markdown",
      "metadata": {
        "id": "QHG4cAJ-EEI2"
      },
      "source": [
        "다음은 수학 기호를 이용하여 화씨 온도인 F를 섭씨 온도인 C로 변환하는 것을 나타낸 것입니다.<br>\n",
        "\n",
        "``Fahrenheit to Celsius (수학)``: $C=(F-32)*\\frac{5}{9}$\n",
        "\n",
        "수학 수업을 통해서, 우리는 F에 어떤 값을 대입할 경우에, 해당 수식을 계산할 수 있음을 알고 있습니다.<br>\n",
        "즉, ``F``에 212이라는 값을 대입 한다면, ``C``는 100이라는 값으로 계산이 된다는 것을 이해하는 것이지요.<br>\n",
        "이런 경우, ``F``는 변하는 값을 갖는 변수로서, 예제의 경우는 212의 값을 갖으며, ``C``도 변수로서 이경우 100이라는 값을 갖게 됩니다.<br>\n",
        "이와 같이, Python에서도 변수를 만들어서, 필요한 시점에 필요한 값을 '저장'하는 용도로 활용합니다.<br>\n",
        "Python과 같은 컴퓨터 프로그래밍 언어에서의 변수 이름은 반드시 용도를 이해할 수 있는 길이와 단어를 사용합니다.<br>\n",
        "위의 수학 공식을 Python 코드 스타일로 바꾸면 다음과 같이 됩니다.<br>\n",
        "\n",
        "``Fahrenheit to Celsius (Python)``:\n",
        "```python\n",
        "degree_celsius = (degree_fahrenheit - 32) * 5 / 9\n",
        "```\n",
        "\n",
        "실제로 다음의 코드를 아래의 입력창에 입력하고, 수행하여 화씨 212도가 섭씨 100도로 제대로 변환이 되는지를 확인해 봅니다.<br>\n",
        "```python\n",
        "degree_fahrenheit = 212\n",
        "degree_celsius = (degree_fahrenheit - 32) * 5 / 9\n",
        "print(degree_celsius)\n",
        "```\n",
        "Python에서의 변수명은 대소문자 알파벳으로 시작해서 가능하면 이름이 명확한 의미를 전달할 수 있는 명사와 동사를 섞어서 사용하기 권합니다."
      ]
    },
    {
      "cell_type": "code",
      "execution_count": null,
      "metadata": {
        "id": "St_EaBZTEEI2"
      },
      "outputs": [],
      "source": []
    },
    {
      "cell_type": "markdown",
      "metadata": {
        "id": "WK26tvvSEEI2"
      },
      "source": [
        "## 주석 작성 하기"
      ]
    },
    {
      "cell_type": "markdown",
      "metadata": {
        "id": "DIJtPOHnEEI2"
      },
      "source": [
        "주석(Comment)은 1) 내가 만든 코드를 미래의 내가 다시 읽을때 이해를 쉽게 하기 위한 용도,<br>\n",
        "그리고 2) 내가 만든 코드를 남에게 주었을때 다른 사람이 내가 만든 코드를 쉽게 이해하기 위한 용도로 활용합니다.<br>\n",
        "실제 Python에 의해서는 실행되지 않는 문장이며, 사람간에 소스 프로그램에 대한 정보를 전달하기 위함입니다.<br>\n",
        "Python에서의 주석은 줄의 시작 부분에 ``#`` 기호를 삽입합니다.<br>\n",
        "예를 들어 앞서 섭씨/화씨 변환 프로그램에 주석을 달면 다음과 같습니다.<br>\n",
        "```python\n",
        "# Purpose: Fahrenheit to Celsius\n",
        "# Date: 2018. 9. 1\n",
        "# Written by: Sungwon Lee\n",
        "degree_celsius = (degree_fahrenheit - 32) * 5 / 9\n",
        "# degree_fahrenheit: target variable to convert\n",
        "# Contact: drsungwon@khu.ac.kr\n",
        "```\n",
        "최근의 Agile과 같은 프로그래밍 기법은 설계 문서 보다는 동작하는 코드를 중시하는 바,<br>\n",
        "설계 문서를 작성하는 대신에 소스 코드 안에 미리 주석 문으로 수행해야 하는 동작을 기술한 후,<br>\n",
        "실제 Python과 같은 컴퓨터 프로그래밍 언어로 주석문의 내용을 1:1로 구현하는 방식의 기법을 많이 사용합니다.<br>\n",
        "이렇게 함으로서 주석 구문을 설계 방법 처럼 사용하는 것이니, 많이 활용해 보기 바랍니다."
      ]
    },
    {
      "cell_type": "markdown",
      "metadata": {
        "id": "nsg8Xf3bEEI2"
      },
      "source": [
        "# 실습 (LAB)"
      ]
    },
    {
      "cell_type": "markdown",
      "metadata": {
        "id": "kWG8gbuOEEI2"
      },
      "source": [
        "## 기본 연산자 실습하기"
      ]
    },
    {
      "cell_type": "markdown",
      "metadata": {
        "id": "GFf-kKJyEEI2"
      },
      "source": [
        "Python 코드로 아래의 계산을 수행하고 결과를 ``print()`` 문법을 사용하여 출력합니다.<br>\n",
        "단순하게 결과 값을 출력하는데 그치지 말고, 왜 그런 결과 값이  나왔는지에 대해서 이해합니다.<br>\n",
        "특별히 어떤 경우에 정수/소수 결과가 나오는지 확인해 봅니다.<br>\n",
        "```python\n",
        "9-3\n",
        "8*25\n",
        "9/2\n",
        "9/-2\n",
        "9//2\n",
        "9//-2\n",
        "9%2\n",
        "9.0%2\n",
        "9%2.0\n",
        "9%-2\n",
        "-9%2\n",
        "9/-2.0\n",
        "4+5*5\n",
        "(4+3)*5\n",
        "```"
      ]
    },
    {
      "cell_type": "code",
      "execution_count": null,
      "metadata": {
        "id": "9ktxCKUXEEI3"
      },
      "outputs": [],
      "source": []
    },
    {
      "cell_type": "markdown",
      "metadata": {
        "id": "t2COuZkjEEI3"
      },
      "source": [
        "## 변수 활용하기"
      ]
    },
    {
      "cell_type": "markdown",
      "metadata": {
        "id": "W3WVfupIEEI3"
      },
      "source": [
        "Python을 사용하여 섭씨 온도를 화씨 온도로 변경하는 간단한 프로그램을 만들어 봅니다.<br>\n",
        "1) 변수 temp를 생성하고, 값 24로 설정합니다.<br>\n",
        "2) temp의 값을 섭씨 온도로 가정하여, 이를 화씨 온도로 바꿉니다. 이렇께 바꾼 결과값을 다시 temp 변수에 저장합니다.<br>\n",
        "- 참고로, 섭씨 온도에 1.8을 곱하고 32를 더하면 화씨 온도가 계산됩니다.<br>\n",
        "\n",
        "3) 결과 확인을 위하여 temp 값을 ``print()`` 문법을 사용하여 출력합니다."
      ]
    },
    {
      "cell_type": "code",
      "execution_count": null,
      "metadata": {
        "id": "xna516WIEEI3"
      },
      "outputs": [],
      "source": []
    },
    {
      "cell_type": "markdown",
      "metadata": {
        "id": "ilrjZLQUEEI3"
      },
      "source": [
        "## 기본 연산자 우선 순위 및 주석 처리 실습하기"
      ]
    },
    {
      "cell_type": "markdown",
      "metadata": {
        "id": "T-y-LQFMEEI3"
      },
      "source": [
        "다음의 연산식의 결과를 머리로 계산해 본 후, 다음의 첫번째 입력창에 주석 문으로 답안을 작성해 봅니다.<br>\n",
        "\n",
        "``(a) 6 * 3 + 7 * 4``<br>\n",
        "``(b) 5 + 3 / 4``<br>\n",
        "``(c) 5 - 2 * 3 ** 4``<br>\n",
        "\n",
        "그런 다음, 두번째 출력창에서 ``print()`` 문법을 사용하여 결과를 출력해보고 두개의 답안이 맞는지 확인해 봅니다.<br>"
      ]
    },
    {
      "cell_type": "code",
      "execution_count": null,
      "metadata": {
        "id": "9xHbis_OEEI3"
      },
      "outputs": [],
      "source": []
    },
    {
      "cell_type": "code",
      "execution_count": null,
      "metadata": {
        "id": "i3XR8Hk6EEI3"
      },
      "outputs": [],
      "source": []
    },
    {
      "cell_type": "markdown",
      "metadata": {
        "id": "UhcbBQUiStHG"
      },
      "source": [
        "## 리스트 (Lists)"
      ]
    },
    {
      "cell_type": "markdown",
      "metadata": {},
      "source": [
        "<img src=\"https://raw.githubusercontent.com/lusina0304/Algorithm2024_fall/refs/heads/main/2025_fall/datastruct/images/basic_list.jpg\" />\n"
      ]
    },
    {
      "cell_type": "markdown",
      "metadata": {
        "id": "RkPn1IjNTCxA"
      },
      "source": [
        "리스트는 요소들의 순서가 있는 데이터를 담는 컨테이너 타입입니다. 리스트는 빈 상태로 초기화할 수 있습니다."
      ]
    },
    {
      "cell_type": "code",
      "execution_count": 2,
      "metadata": {
        "id": "OrnV1ySAPtHp"
      },
      "outputs": [],
      "source": [
        "my_list = []"
      ]
    },
    {
      "cell_type": "markdown",
      "metadata": {
        "id": "OwRqyYI9XnPK"
      },
      "source": [
        "또는 일부 초기 요소들과 함께 초기화할 수 있습니다."
      ]
    },
    {
      "cell_type": "code",
      "execution_count": 5,
      "metadata": {
        "id": "Uq5YTJ1JXpOX"
      },
      "outputs": [],
      "source": [
        "my_list = [1, 2, 3]"
      ]
    },
    {
      "cell_type": "markdown",
      "metadata": {
        "id": "Hk2WmojJXyyz"
      },
      "source": [
        "리스트는 동적 크기를 가지며 요소를 추가(append)할 수 있습니다."
      ]
    },
    {
      "cell_type": "code",
      "execution_count": 4,
      "metadata": {
        "colab": {
          "base_uri": "https://localhost:8080/",
          "height": 34
        },
        "id": "QFTNqiYiXxAh",
        "outputId": "720d3340-7df7-49b8-c920-964d2e350af5"
      },
      "outputs": [
        {
          "data": {
            "text/plain": [
              "[1, 2, 3, 4]"
            ]
          },
          "execution_count": 4,
          "metadata": {},
          "output_type": "execute_result"
        }
      ],
      "source": [
        "my_list.append(4)\n",
        "my_list"
      ]
    },
    {
      "cell_type": "markdown",
      "metadata": {
        "id": "IUnJuqQ2Yhzw"
      },
      "source": [
        "리스트의 개별 요소에 접근할 수 있습니다(인덱싱은 0부터 시작)."
      ]
    },
    {
      "cell_type": "code",
      "execution_count": null,
      "metadata": {
        "colab": {
          "base_uri": "https://localhost:8080/",
          "height": 34
        },
        "id": "pyFxyZPVYpG_",
        "outputId": "7efb0bc1-25fb-4849-8d3a-cfa62b94a175"
      },
      "outputs": [
        {
          "data": {
            "text/plain": [
              "3"
            ]
          },
          "execution_count": 10,
          "metadata": {
            "tags": []
          },
          "output_type": "execute_result"
        }
      ],
      "source": [
        "my_list[2]"
      ]
    },
    {
      "cell_type": "markdown",
      "metadata": {
        "id": "hPMrIDYsdgMP"
      },
      "source": [
        "리스트의 \"슬라이스(slices)\"에 접근할 수 있습니다. `my_list[i:j]`를 사용하여 `i`는 슬라이스의 시작 인덱스(0부터 시작), `j`는 슬라이스의 끝 인덱스를 나타냅니다. 예를 들어:"
      ]
    },
    {
      "cell_type": "code",
      "execution_count": null,
      "metadata": {
        "colab": {
          "base_uri": "https://localhost:8080/",
          "height": 34
        },
        "id": "Ichf9p0gd7tJ",
        "outputId": "5f4ec085-431e-4e16-aab1-8708f2c931d4"
      },
      "outputs": [
        {
          "data": {
            "text/plain": [
              "[2, 3]"
            ]
          },
          "execution_count": 14,
          "metadata": {
            "tags": []
          },
          "output_type": "execute_result"
        }
      ],
      "source": [
        "my_list[1:3]"
      ]
    },
    {
      "cell_type": "markdown",
      "metadata": {
        "id": "KMbzH4tzQ9rI"
      },
      "source": [
        "두 번째 인덱스를 생략하면 슬라이스는 리스트의 끝까지 진행됩니다."
      ]
    },
    {
      "cell_type": "code",
      "execution_count": null,
      "metadata": {
        "colab": {
          "base_uri": "https://localhost:8080/",
          "height": 34
        },
        "id": "O7wCthKnREKV",
        "outputId": "5a04ea59-7a54-4b09-a8ee-3cd6171e8c7a"
      },
      "outputs": [
        {
          "data": {
            "text/plain": [
              "[2, 3, 4]"
            ]
          },
          "execution_count": 64,
          "metadata": {
            "tags": []
          },
          "output_type": "execute_result"
        }
      ],
      "source": [
        "my_list[1:]"
      ]
    },
    {
      "cell_type": "markdown",
      "metadata": {},
      "source": [
        "3개의 인덱스를 줄 수도 있습니다. 이럴경우 `[start:end:step]` (start 부터 시작하여 end-1까지 step 만큼 뛰어넘어 순회한다.) 이 됩니다."
      ]
    },
    {
      "cell_type": "code",
      "execution_count": 10,
      "metadata": {},
      "outputs": [
        {
          "data": {
            "text/plain": [
              "[1, 3]"
            ]
          },
          "execution_count": 10,
          "metadata": {},
          "output_type": "execute_result"
        }
      ],
      "source": [
        "my_list[0:4:2]"
      ]
    },
    {
      "cell_type": "markdown",
      "metadata": {
        "id": "C5Aeu7PUebrK"
      },
      "source": [
        "리스트에 특정 요소가 있는지 `in`을 사용해 확인할 수 있습니다."
      ]
    },
    {
      "cell_type": "code",
      "execution_count": null,
      "metadata": {
        "colab": {
          "base_uri": "https://localhost:8080/",
          "height": 34
        },
        "id": "a_P5NCi-efvb",
        "outputId": "5012122e-f02c-4474-ec51-6ef8519e5733"
      },
      "outputs": [
        {
          "data": {
            "text/plain": [
              "False"
            ]
          },
          "execution_count": 15,
          "metadata": {
            "tags": []
          },
          "output_type": "execute_result"
        }
      ],
      "source": [
        "5 in my_list"
      ]
    },
    {
      "cell_type": "markdown",
      "metadata": {
        "id": "LypIsP5gkl10"
      },
      "source": [
        "리스트의 길이는 `len` 함수를 사용해 얻을 수 있습니다."
      ]
    },
    {
      "cell_type": "code",
      "execution_count": null,
      "metadata": {
        "colab": {
          "base_uri": "https://localhost:8080/",
          "height": 34
        },
        "id": "ac0FMsaKkrWc",
        "outputId": "0a7418d2-67a1-419c-e12b-e6ffb3b4b66d"
      },
      "outputs": [
        {
          "data": {
            "text/plain": [
              "4"
            ]
          },
          "execution_count": 24,
          "metadata": {
            "tags": []
          },
          "output_type": "execute_result"
        }
      ],
      "source": [
        "len(my_list)"
      ]
    },
    {
      "cell_type": "markdown",
      "metadata": {},
      "source": [
        "### 리스트 내장 함수들\n",
        "\n",
        "<img src=\"https://raw.githubusercontent.com/lusina0304/Algorithm2024_fall/refs/heads/main/2025_fall/datastruct/images/list_func.jpg\" />"
      ]
    },
    {
      "cell_type": "markdown",
      "metadata": {},
      "source": [
        "### 2차원 리스트\n",
        "\n",
        "<img src=\"https://raw.githubusercontent.com/lusina0304/Algorithm2024_fall/refs/heads/main/2025_fall/datastruct/images/list_2dim.png\" height=\"500px\"/>"
      ]
    },
    {
      "cell_type": "markdown",
      "metadata": {},
      "source": [
        "## 딕셔너리(Dictionary)\n",
        "\n",
        "리스트는 원소에 접근할 때는 순서(인덱스)를 사용하지만 딕셔너리는 키를 이용하여 접근합니다."
      ]
    },
    {
      "cell_type": "code",
      "execution_count": 10,
      "metadata": {},
      "outputs": [],
      "source": [
        "family = {'mom': 'Kim', 'dad': 'Choi', 'baby': 'Choi'}"
      ]
    },
    {
      "cell_type": "markdown",
      "metadata": {},
      "source": [
        "키를 얻으려면 ```.keys()```를 쓰면 됩니다."
      ]
    },
    {
      "cell_type": "code",
      "execution_count": 11,
      "metadata": {},
      "outputs": [
        {
          "data": {
            "text/plain": [
              "dict_keys(['mom', 'dad', 'baby'])"
            ]
          },
          "execution_count": 11,
          "metadata": {},
          "output_type": "execute_result"
        }
      ],
      "source": [
        "family.keys()"
      ]
    },
    {
      "cell_type": "markdown",
      "metadata": {},
      "source": [
        "family의 값들을 얻으려면 딕셔너리 이름 뒤에 ```.values()```를 쓰면 됩니다."
      ]
    },
    {
      "cell_type": "code",
      "execution_count": 12,
      "metadata": {},
      "outputs": [
        {
          "data": {
            "text/plain": [
              "dict_values(['Kim', 'Choi', 'Choi'])"
            ]
          },
          "execution_count": 12,
          "metadata": {},
          "output_type": "execute_result"
        }
      ],
      "source": [
        "family.values()"
      ]
    },
    {
      "cell_type": "markdown",
      "metadata": {},
      "source": [
        "family의 원소(키/값 쌍)들을 얻으려면 이름 뒤에 ```.items()```를 쓰면 됩니다."
      ]
    },
    {
      "cell_type": "code",
      "execution_count": 13,
      "metadata": {},
      "outputs": [
        {
          "data": {
            "text/plain": [
              "dict_items([('mom', 'Kim'), ('dad', 'Choi'), ('baby', 'Choi')])"
            ]
          },
          "execution_count": 13,
          "metadata": {},
          "output_type": "execute_result"
        }
      ],
      "source": [
        "family.items()"
      ]
    },
    {
      "cell_type": "markdown",
      "metadata": {},
      "source": [
        "딕셔너리에 어떤 키가 있는지 없는지는 in을 써서 알아볼 수 있습니다. 있으면 True, 없으면 False라고 대답해주죠."
      ]
    },
    {
      "cell_type": "code",
      "execution_count": 17,
      "metadata": {},
      "outputs": [
        {
          "name": "stdout",
          "output_type": "stream",
          "text": [
            "dad in family:  True\n",
            "sister in family:  False\n"
          ]
        }
      ],
      "source": [
        "print(\"dad in family: \", 'dad' in family)\n",
        "print(\"sister in family: \",'sister' in family)"
      ]
    },
    {
      "cell_type": "markdown",
      "metadata": {},
      "source": [
        "요소 변경도 가능합니다."
      ]
    },
    {
      "cell_type": "code",
      "execution_count": 19,
      "metadata": {},
      "outputs": [
        {
          "name": "stdout",
          "output_type": "stream",
          "text": [
            "{'mom': 'Park', 'dad': 'Choi', 'baby': 'Choi'}\n"
          ]
        }
      ],
      "source": [
        "family['mom'] = 'Park'\n",
        "print(family)"
      ]
    },
    {
      "cell_type": "markdown",
      "metadata": {},
      "source": [
        "zip 함수를 이용하여 2개 요소를 동시에 접근할 수도 있습니다.\n"
      ]
    },
    {
      "cell_type": "code",
      "execution_count": 18,
      "metadata": {},
      "outputs": [
        {
          "name": "stdout",
          "output_type": "stream",
          "text": [
            "[('Kim', '까투리'), ('Choi', '장끼'), ('Choi', '마지')]\n"
          ]
        }
      ],
      "source": [
        "name = {'mom': '까투리', 'dad': '장끼', 'baby': '마지'}\n",
        "\n",
        "print( list(zip(family.values(), name.values())))"
      ]
    },
    {
      "cell_type": "markdown",
      "metadata": {
        "id": "1c3RLStf7G2I"
      },
      "source": [
        "## 문자열(Strings)"
      ]
    },
    {
      "cell_type": "markdown",
      "metadata": {
        "id": "Jm6hZhgz7KhI"
      },
      "source": [
        "문자열(Strings)은 텍스트를 저장하는 데 사용됩니다. 문자열은 작은따옴표(single quotes)나 큰따옴표(double quotes)로 구분할 수 있습니다."
      ]
    },
    {
      "cell_type": "code",
      "execution_count": 2,
      "metadata": {
        "id": "cCma6Oj_7T8n"
      },
      "outputs": [],
      "source": [
        "string1 = \"some text\"\n",
        "string2 = 'some other text'"
      ]
    },
    {
      "cell_type": "markdown",
      "metadata": {
        "id": "Irr4xuWu7Znu"
      },
      "source": [
        "문자열은 리스트와 유사하게 동작합니다. 따라서, 개별 요소에 동일한 방식으로 접근할 수 있습니다."
      ]
    },
    {
      "cell_type": "code",
      "execution_count": null,
      "metadata": {
        "colab": {
          "base_uri": "https://localhost:8080/",
          "height": 35
        },
        "id": "26_POhLO7iM3",
        "outputId": "fa06d3b9-c683-4b05-bedc-36bc43f57bd4"
      },
      "outputs": [
        {
          "data": {
            "application/vnd.google.colaboratory.intrinsic+json": {
              "type": "string"
            },
            "text/plain": [
              "'e'"
            ]
          },
          "execution_count": 49,
          "metadata": {
            "tags": []
          },
          "output_type": "execute_result"
        }
      ],
      "source": [
        "string1[3]"
      ]
    },
    {
      "cell_type": "markdown",
      "metadata": {
        "id": "oA_UD0JV7oPw"
      },
      "source": [
        "슬라이스(Slices)도 동일하게 사용할 수 있습니다."
      ]
    },
    {
      "cell_type": "code",
      "execution_count": null,
      "metadata": {
        "colab": {
          "base_uri": "https://localhost:8080/",
          "height": 35
        },
        "id": "dcZFcLqQ7qCe",
        "outputId": "aba6c437-ade3-49da-9e6a-9383eab01fa9"
      },
      "outputs": [
        {
          "data": {
            "application/vnd.google.colaboratory.intrinsic+json": {
              "type": "string"
            },
            "text/plain": [
              "'text'"
            ]
          },
          "execution_count": 53,
          "metadata": {
            "tags": []
          },
          "output_type": "execute_result"
        }
      ],
      "source": [
        "string1[5:]"
      ]
    },
    {
      "cell_type": "code",
      "execution_count": 3,
      "metadata": {},
      "outputs": [
        {
          "data": {
            "text/plain": [
              "'texttexttext'"
            ]
          },
          "execution_count": 3,
          "metadata": {},
          "output_type": "execute_result"
        }
      ],
      "source": [
        "string1[5:] * 3"
      ]
    },
    {
      "cell_type": "markdown",
      "metadata": {
        "id": "hOQ_CIiu76YG"
      },
      "source": [
        "문자열 연결은 `+` 연산자를 사용해 수행됩니다."
      ]
    },
    {
      "cell_type": "code",
      "execution_count": 5,
      "metadata": {
        "colab": {
          "base_uri": "https://localhost:8080/",
          "height": 35
        },
        "id": "mxqNMKCY79_W",
        "outputId": "e5695c9e-0703-49b3-9608-b57ca8375ba9"
      },
      "outputs": [
        {
          "name": "stdout",
          "output_type": "stream",
          "text": [
            "some text some other text\n"
          ]
        },
        {
          "data": {
            "text/plain": [
              "25"
            ]
          },
          "execution_count": 5,
          "metadata": {},
          "output_type": "execute_result"
        }
      ],
      "source": [
        "string3 = string1 + \" \" + string2\n",
        "print(string3)\n",
        "\n",
        "len(string3)"
      ]
    },
    {
      "cell_type": "markdown",
      "metadata": {
        "id": "7Lox2GZCMdIB"
      },
      "source": [
        "## 조건문(Conditionals)"
      ]
    },
    {
      "cell_type": "markdown",
      "metadata": {
        "id": "-gXEAWFZfDTT"
      },
      "source": [
        "조건문은 조건이 참(True)인지 거짓(False)인지에 따라 코드를 실행하는 방법입니다. 다른 언어와 마찬가지로, Python에서는 `if`와 `else`를 지원하며, else if는 `elif`로 축약됩니다. 아래의 예제를 참조하세요."
      ]
    },
    {
      "cell_type": "code",
      "execution_count": null,
      "metadata": {
        "colab": {
          "base_uri": "https://localhost:8080/",
          "height": 34
        },
        "id": "xC_DMZjofoYZ",
        "outputId": "e86016aa-0ebd-4e0f-e559-326f4b2ce644"
      },
      "outputs": [
        {
          "name": "stdout",
          "output_type": "stream",
          "text": [
            "positive\n"
          ]
        }
      ],
      "source": [
        "my_variable = 5\n",
        "if my_variable < 0:\n",
        "  print(\"negative\")\n",
        "elif my_variable == 0:\n",
        "  print(\"null\")\n",
        "else: # my_variable > 0\n",
        "  print(\"positive\")"
      ]
    },
    {
      "cell_type": "markdown",
      "metadata": {
        "id": "Ag0SUokSf9jl"
      },
      "source": [
        "여기서 `<`와 `>`는 각각 엄격한 `작다`와 `크다`를 나타내는 연산자이며, `==`는 동등성 연산자입니다(변수 할당 연산자 `=`와 혼동하지 마세요). `<=`와 `>=` 연산자는 각각 `작거나 같다`와 `크거나 같다`를 비교하는 데 사용됩니다."
      ]
    },
    {
      "cell_type": "markdown",
      "metadata": {
        "id": "qTkQ2F_jy8wz"
      },
      "source": [
        "다른 언어와 달리, 코드 블록은 들여쓰기를 사용해 구분됩니다. 여기서는 2칸 들여쓰기를 사용하지만, 많은 프로그래머들이 4칸 들여쓰기를 사용하기도 합니다. 일관성을 유지하는 한, 어느 쪽도 괜찮습니다."
      ]
    },
    {
      "cell_type": "markdown",
      "metadata": {
        "id": "clWaFCzBMfkv"
      },
      "source": [
        "## 반복문(Loops)"
      ]
    },
    {
      "cell_type": "markdown",
      "metadata": {
        "id": "_A5doqhTivWe"
      },
      "source": [
        "반복문은 코드 블록을 여러 번 실행하는 방법입니다. 주요 반복문 유형은 while 루프와 for 루프가 있습니다."
      ]
    },
    {
      "cell_type": "markdown",
      "metadata": {
        "id": "YN8lwTxQkGEa"
      },
      "source": [
        "While 루프"
      ]
    },
    {
      "cell_type": "code",
      "execution_count": 7,
      "metadata": {
        "colab": {
          "base_uri": "https://localhost:8080/",
          "height": 85
        },
        "id": "7-QXGqgOjsr_",
        "outputId": "4a9bdffc-46ba-47ba-e60b-3ea01dcd2d65"
      },
      "outputs": [
        {
          "name": "stdout",
          "output_type": "stream",
          "text": [
            "1 2 3 "
          ]
        }
      ],
      "source": [
        "i = 0\n",
        "while i < len(my_list):\n",
        "  print(my_list[i], end=' ')\n",
        "  i += 1 # equivalent to i = i + 1"
      ]
    },
    {
      "cell_type": "markdown",
      "metadata": {
        "id": "8mEI_ocfkSvZ"
      },
      "source": [
        "For 루프"
      ]
    },
    {
      "cell_type": "code",
      "execution_count": 6,
      "metadata": {
        "colab": {
          "base_uri": "https://localhost:8080/",
          "height": 85
        },
        "id": "2QObx5mckMcI",
        "outputId": "32c31a79-ef89-4e80-9e76-47540f839cb6"
      },
      "outputs": [
        {
          "name": "stdout",
          "output_type": "stream",
          "text": [
            "1 2 3 "
          ]
        }
      ],
      "source": [
        "for i in range(len(my_list)):\n",
        "  print(my_list[i], end=' ')"
      ]
    },
    {
      "cell_type": "code",
      "execution_count": 3,
      "metadata": {},
      "outputs": [
        {
          "name": "stdout",
          "output_type": "stream",
          "text": [
            "4 6 8 "
          ]
        }
      ],
      "source": [
        "for i in range(4, 10, 2):\n",
        "    print(i, end=' ')"
      ]
    },
    {
      "cell_type": "code",
      "execution_count": 8,
      "metadata": {},
      "outputs": [
        {
          "name": "stdout",
          "output_type": "stream",
          "text": [
            "10 8 6 "
          ]
        }
      ],
      "source": [
        "for i in range(10, 4, -2):\n",
        "    print(i, end=' ')"
      ]
    },
    {
      "cell_type": "markdown",
      "metadata": {
        "id": "XO6qqppikZvm"
      },
      "source": [
        "리스트를 단순히 순회(iterate)하려는 경우, 다음과 같이 직접적으로 할 수 있습니다."
      ]
    },
    {
      "cell_type": "code",
      "execution_count": 20,
      "metadata": {
        "colab": {
          "base_uri": "https://localhost:8080/",
          "height": 85
        },
        "id": "PjFKzN6zkeJ7",
        "outputId": "41f3a553-b629-4e52-ad98-7bbe55e0cced"
      },
      "outputs": [
        {
          "name": "stdout",
          "output_type": "stream",
          "text": [
            "1 2 3 "
          ]
        }
      ],
      "source": [
        "for element in my_list:\n",
        "  print(element, end=' ')"
      ]
    },
    {
      "cell_type": "code",
      "execution_count": 22,
      "metadata": {},
      "outputs": [
        {
          "name": "stdout",
          "output_type": "stream",
          "text": [
            "mom : Park, dad : Choi, baby : Choi, "
          ]
        }
      ],
      "source": [
        "for key in family:\n",
        "    print(key, ':', family[key], end=', ')"
      ]
    },
    {
      "cell_type": "code",
      "execution_count": 23,
      "metadata": {},
      "outputs": [
        {
          "name": "stdout",
          "output_type": "stream",
          "text": [
            "t-e-s-t-s-e-q-"
          ]
        }
      ],
      "source": [
        "for c in 'testseq':\n",
        "    print( c, end='-')"
      ]
    },
    {
      "cell_type": "markdown",
      "metadata": {},
      "source": [
        "### 실습 문제\n",
        "\n",
        "<img src=\"https://raw.githubusercontent.com/lusina0304/Algorithm2024_fall/refs/heads/main/2025_fall/datastruct/images/2dim_list_lab.jpg\" />\n"
      ]
    },
    {
      "cell_type": "code",
      "execution_count": null,
      "metadata": {},
      "outputs": [],
      "source": []
    },
    {
      "cell_type": "markdown",
      "metadata": {},
      "source": [
        "## 불변 타입과 가변 타입\n",
        "\n",
        "정수, 문자열, 튜플은 불변 타입이고 리스트는 가변 타입이다."
      ]
    },
    {
      "cell_type": "code",
      "execution_count": 25,
      "metadata": {},
      "outputs": [
        {
          "name": "stdout",
          "output_type": "stream",
          "text": [
            "2410421840240\n",
            "2410421840272\n"
          ]
        }
      ],
      "source": [
        "a = 3\n",
        "print(id(a))\n",
        "\n",
        "a += 1\n",
        "print(id(a))"
      ]
    },
    {
      "cell_type": "code",
      "execution_count": 28,
      "metadata": {},
      "outputs": [
        {
          "name": "stdout",
          "output_type": "stream",
          "text": [
            "2410525060672\n",
            "2410525060672\n"
          ]
        }
      ],
      "source": [
        "b = [1, 3, 5, 7]\n",
        "print(id(b))\n",
        "\n",
        "b.append('test')\n",
        "print(id(b))"
      ]
    },
    {
      "cell_type": "markdown",
      "metadata": {},
      "source": [
        "## List comprehension\n",
        "\n",
        "List 를 생성할 때 사용되는 for 문을 한 줄로 줄여 표현할 수 있습니다.\n",
        "\n",
        "다음 코드로 리스트를 생성한다고 생각해봅시다."
      ]
    },
    {
      "cell_type": "code",
      "execution_count": 12,
      "metadata": {},
      "outputs": [
        {
          "data": {
            "text/plain": [
              "[(0, 6), (0, 7), (1, 6), (1, 7)]"
            ]
          },
          "execution_count": 12,
          "metadata": {},
          "output_type": "execute_result"
        }
      ],
      "source": [
        "# 중복 for 루프를 통해 리스트에 값을 넣는다.\n",
        "list1 = []\n",
        "for num1 in range(0,2):\n",
        "    for num2 in range(6,8):\n",
        "        # num1 과 num2로 구성된 튜플(tuples)을 리스트에 넣는다.\n",
        "        list1.append((num1, num2))\n",
        "# show the updated list\n",
        "list1"
      ]
    },
    {
      "cell_type": "markdown",
      "metadata": {},
      "source": [
        "위의 코드를 list comprehension 이용하여 변경해봅시다."
      ]
    },
    {
      "cell_type": "code",
      "execution_count": 13,
      "metadata": {},
      "outputs": [
        {
          "data": {
            "text/plain": [
              "[(0, 6), (0, 7), (1, 6), (1, 7)]"
            ]
          },
          "execution_count": 13,
          "metadata": {},
          "output_type": "execute_result"
        }
      ],
      "source": [
        "list2 = [(num1, num2) for num1 in range(0,2) for num2 in range(6,8)]\n",
        "# show list2\n",
        "list2"
      ]
    },
    {
      "cell_type": "markdown",
      "metadata": {},
      "source": [
        "다른 예제도 봅시다. doctor 리스트 원소들의 첫 글자만으로 구성된 리스트를 새로 만든다면?"
      ]
    },
    {
      "cell_type": "code",
      "execution_count": 14,
      "metadata": {},
      "outputs": [
        {
          "data": {
            "text/plain": [
              "['h', 'c', 'c', 't', 'w']"
            ]
          },
          "execution_count": 14,
          "metadata": {},
          "output_type": "execute_result"
        }
      ],
      "source": [
        "doctor = ['house', 'cuddy', 'chase', 'thirteen', 'wilson']\n",
        "\n",
        "x = [doc[0] for doc in doctor]\n",
        "x"
      ]
    },
    {
      "cell_type": "markdown",
      "metadata": {},
      "source": [
        "여기 제곱 수를 구하는 예제도 있습니다."
      ]
    },
    {
      "cell_type": "code",
      "execution_count": 15,
      "metadata": {},
      "outputs": [
        {
          "data": {
            "text/plain": [
              "[0, 1, 4, 9, 16, 25, 36, 49, 64, 81]"
            ]
          },
          "execution_count": 15,
          "metadata": {},
          "output_type": "execute_result"
        }
      ],
      "source": [
        "squares = [i**2 for i in range(0,10)]\n",
        "squares"
      ]
    },
    {
      "cell_type": "markdown",
      "metadata": {},
      "source": [
        "2차원 리스트도 생성 가능합니다. 이를 통해 행렬을 생성할 수도 있습니다."
      ]
    },
    {
      "cell_type": "code",
      "execution_count": 16,
      "metadata": {},
      "outputs": [
        {
          "data": {
            "text/plain": [
              "[[0, 1, 2, 3, 4],\n",
              " [0, 1, 2, 3, 4],\n",
              " [0, 1, 2, 3, 4],\n",
              " [0, 1, 2, 3, 4],\n",
              " [0, 1, 2, 3, 4]]"
            ]
          },
          "execution_count": 16,
          "metadata": {},
          "output_type": "execute_result"
        }
      ],
      "source": [
        "# Create a 5 x 5 matrix using a list of lists: matrix\n",
        "matrix = [[col for col in range(5)] for row in range(5)]\n",
        "matrix"
      ]
    },
    {
      "cell_type": "markdown",
      "metadata": {},
      "source": [
        "또는 조건문을 이용할 수도 있습니다."
      ]
    },
    {
      "cell_type": "code",
      "execution_count": 18,
      "metadata": {},
      "outputs": [
        {
          "data": {
            "text/plain": [
              "[0, 4, 16, 36, 64, 100]"
            ]
          },
          "execution_count": 18,
          "metadata": {},
          "output_type": "execute_result"
        }
      ],
      "source": [
        "# 0 ~ 11 까지의 숫자에서 짝수만 제곱한다.\n",
        "[num**2 for num in range(12) if num % 2 == 0]"
      ]
    },
    {
      "cell_type": "code",
      "execution_count": 19,
      "metadata": {},
      "outputs": [
        {
          "data": {
            "text/plain": [
              "[0, 0, 4, 0, 16, 0, 36, 0, 64, 0, 100, 0]"
            ]
          },
          "execution_count": 19,
          "metadata": {},
          "output_type": "execute_result"
        }
      ],
      "source": [
        "# 여기서는 짝수일때만 제곱하고 홀수일때는 0을 출력합니다.\n",
        "[num**2 if num % 2 == 0 else 0 for num in range(12)]"
      ]
    },
    {
      "cell_type": "markdown",
      "metadata": {
        "id": "Cck4zwYrex02"
      },
      "source": [
        "## 함수(Functions)"
      ]
    },
    {
      "cell_type": "markdown",
      "metadata": {
        "id": "n1PbIf_ohxFO"
      },
      "source": [
        "코드 가독성을 향상시키기 위해, 코드를 여러 블록으로 분리하여 각각 특정 작업을 수행하도록 하는 것이 일반적입니다. 이러한 블록을 함수라고 합니다. 함수는 일부 입력을 받아 처리한 후, 출력을 반환합니다."
      ]
    },
    {
      "cell_type": "code",
      "execution_count": null,
      "metadata": {
        "colab": {
          "base_uri": "https://localhost:8080/",
          "height": 34
        },
        "id": "cImA09gOhRmx",
        "outputId": "85834282-56d6-4c17-f188-433f46c50d21"
      },
      "outputs": [
        {
          "data": {
            "text/plain": [
              "36"
            ]
          },
          "execution_count": 17,
          "metadata": {
            "tags": []
          },
          "output_type": "execute_result"
        }
      ],
      "source": [
        "def square(x):\n",
        "  return x ** 2\n",
        "\n",
        "def multiply(a, b):\n",
        "  return a * b\n",
        "\n",
        "# 함수의 조합\n",
        "square(multiply(3, 2))"
      ]
    },
    {
      "cell_type": "markdown",
      "metadata": {
        "id": "75-5SOk9iYSt"
      },
      "source": [
        "가독성을 높이기 위해 인수를 명시적으로 지정하는 것도 유용할 수 있습니다."
      ]
    },
    {
      "cell_type": "code",
      "execution_count": null,
      "metadata": {
        "colab": {
          "base_uri": "https://localhost:8080/",
          "height": 34
        },
        "id": "wkIUuZHhidI0",
        "outputId": "acb68380-db78-491c-ce27-8a4664f78ce5"
      },
      "outputs": [
        {
          "data": {
            "text/plain": [
              "36"
            ]
          },
          "execution_count": 18,
          "metadata": {
            "tags": []
          },
          "output_type": "execute_result"
        }
      ],
      "source": [
        "square(multiply(a=3, b=2))"
      ]
    },
    {
      "cell_type": "markdown",
      "metadata": {
        "id": "RoIpfYV0R9ah"
      },
      "source": [
        "## 자습\n",
        " 다음 링크를 통해 더 많이 학습할 수 있습니다.\n",
        "* https://docs.python.org/ko/3/tutorial/\n",
        "* https://wikidocs.net/43\n"
      ]
    },
    {
      "cell_type": "markdown",
      "metadata": {
        "id": "UdRyKR44dcNI"
      },
      "source": [
        "## (유용한 기능!) 그래프 그리기\n",
        "\n",
        "Python 라이브러리를 최대한 활용하여 데이터를 분석하고 시각화할 수 있습니다. 아래 코드 셀에서는 <strong>Numpy</strong>를 사용하여 임의의 데이터를 생성하고 <strong>매트플롯립</strong>으로 이를 시각화합니다. 셀을 클릭하면 코드 수정을 바로 시작할 수 있습니다."
      ]
    },
    {
      "cell_type": "code",
      "execution_count": null,
      "metadata": {
        "colab": {
          "base_uri": "https://localhost:8080/",
          "height": 333
        },
        "id": "C4HZx7Gndbrh",
        "outputId": "d83d9292-7b79-4c66-ae17-d88cd19d58d1"
      },
      "outputs": [
        {
          "data": {
            "text/markdown": [
              "![Sample Visualization](data:image/png;base64,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)"
            ],
            "text/plain": [
              "<IPython.core.display.Markdown object>"
            ]
          },
          "metadata": {},
          "output_type": "display_data"
        }
      ],
      "source": [
        "import numpy as np\n",
        "import IPython.display as display\n",
        "from matplotlib import pyplot as plt\n",
        "import io\n",
        "import base64\n",
        "\n",
        "ys = 200 + np.random.randn(100)\n",
        "x = [x for x in range(len(ys))]\n",
        "\n",
        "fig = plt.figure(figsize=(4, 3), facecolor='w')\n",
        "plt.plot(x, ys, '-')\n",
        "plt.fill_between(x, ys, 195, where=(ys > 195), facecolor='g', alpha=0.6)\n",
        "plt.title(\"Sample Visualization\", fontsize=10)\n",
        "\n",
        "data = io.BytesIO()\n",
        "plt.savefig(data)\n",
        "image = F\"data:image/png;base64,{base64.b64encode(data.getvalue()).decode()}\"\n",
        "alt = \"Sample Visualization\"\n",
        "display.display(display.Markdown(F\"\"\"![{alt}]({image})\"\"\"))\n",
        "plt.close(fig)"
      ]
    }
  ],
  "metadata": {
    "colab": {
      "provenance": []
    },
    "kernelspec": {
      "display_name": ".venv",
      "language": "python",
      "name": "python3"
    },
    "language_info": {
      "codemirror_mode": {
        "name": "ipython",
        "version": 3
      },
      "file_extension": ".py",
      "mimetype": "text/x-python",
      "name": "python",
      "nbconvert_exporter": "python",
      "pygments_lexer": "ipython3",
      "version": "3.9.13"
    }
  },
  "nbformat": 4,
  "nbformat_minor": 0
}
