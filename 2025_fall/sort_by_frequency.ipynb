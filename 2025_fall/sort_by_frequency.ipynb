{
 "cells": [
  {
   "cell_type": "markdown",
   "id": "fa17a2d2",
   "metadata": {},
   "source": [
    "## 빈도에 따라 정렬하기\n",
    "\n",
    "문자가 한번 혹은 여러 번 나오는 하나의 문자열이 주어졌을 때 출현하는 빈도가 높은 문자부터 정렬하는 것이 이 문제의 목표입니다.<br>\n",
    "단, 어느 문자를 먼저 정렬하느냐에 대한 기준은 없습니다.\n",
    "\n",
    "``` \n",
    "s=\"happoap\"\n",
    "\"pppaaho\"\n",
    "```\n",
    "\n",
    "힌트: ```collections.Counter``` 와 ```sorted``` 를 사용하세요."
   ]
  },
  {
   "cell_type": "code",
   "execution_count": null,
   "id": "e149ae1e",
   "metadata": {},
   "outputs": [],
   "source": [
    "import collections\n",
    "\n",
    "def sort_by_frequency(s: str) -> str:\n",
    "    pass"
   ]
  },
  {
   "cell_type": "code",
   "execution_count": null,
   "id": "0300b568",
   "metadata": {},
   "outputs": [
    {
     "name": "stdout",
     "output_type": "stream",
     "text": [
      "dict_items([('h', 1), ('a', 2), ('p', 3), ('o', 1)])\n",
      "[('p', 3), ('a', 2), ('h', 1), ('o', 1)]\n",
      "pppaaho\n",
      "pppaaho\n"
     ]
    }
   ],
   "source": [
    "# 테스트 코드\n",
    "s = \"happoap\"\n",
    "\n",
    "print(sort_by_frequency(s))"
   ]
  }
 ],
 "metadata": {
  "kernelspec": {
   "display_name": ".venv",
   "language": "python",
   "name": "python3"
  },
  "language_info": {
   "codemirror_mode": {
    "name": "ipython",
    "version": 3
   },
   "file_extension": ".py",
   "mimetype": "text/x-python",
   "name": "python",
   "nbconvert_exporter": "python",
   "pygments_lexer": "ipython3",
   "version": "3.9.13"
  }
 },
 "nbformat": 4,
 "nbformat_minor": 5
}
