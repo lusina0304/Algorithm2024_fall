{
 "cells": [
  {
   "cell_type": "markdown",
   "metadata": {},
   "source": [
    "# 동적 프로그래밍(Dynamic programming)\n",
    "\n",
    "## 행렬 경로 문제\n",
    "\n"
   ]
  },
  {
   "cell_type": "code",
   "execution_count": null,
   "metadata": {},
   "outputs": [
    {
     "name": "stdout",
     "output_type": "stream",
     "text": [
      "given matrix: \n",
      "[[10  7  3  7  6 13  5 19 18 15]\n",
      " [ 3  7 16 18  4 19  3  5  7 10]\n",
      " [13 13 17  7  3 13  3 15  5 13]\n",
      " [15  3  9 13 18  3 16  7 12 10]\n",
      " [ 4 15  5 18  5 13  3 20 14 16]\n",
      " [ 8  6 16 12 11  6 19  3 18  4]\n",
      " [16  6 11 12 15 15 16 15 11  8]\n",
      " [14  3 11 13 19  7 12 20 20 13]\n",
      " [14  9  7 18 11  7  7 20 17 15]\n",
      " [ 9 10 16 17 20  7 15 19  7 14]]\n",
      "cost matrix: \n",
      "[[ 10  17  20  27  33  46  51  70  88 103]\n",
      " [ 13  24  40  58  62  81  84  89  96 113]\n",
      " [ 26  39  57  65  68  94  97 112 117 130]\n",
      " [ 41  44  66  79  97 100 116 123 135 145]\n",
      " [ 45  60  71  97 102 115 119 143 157 173]\n",
      " [ 53  66  87 109 120 126 145 148 175 179]\n",
      " [ 69  75  98 121 136 151 167 182 193 201]\n",
      " [ 83  86 109 134 155 162 179 202 222 235]\n",
      " [ 97 106 116 152 166 173 186 222 239 254]\n",
      " [106 116 132 169 189 196 211 241 248 268]]\n"
     ]
    }
   ],
   "source": [
    "import random\n",
    "import numpy as np\n",
    "\n",
    "class MatrixPathProblem:\n",
    "    def __init__(self, matrix_size:int):\n",
    "        size=matrix_size\n",
    "\n",
    "        max_value = 20 + 1\n",
    "        min_value = 3\n",
    "        # 행렬 랜덤 초기화\n",
    "        self.matrix = [[random.randrange(min_value, max_value) for i in range(size)] for j in range(size)];\n",
    "        # 비용 행렬 초기화\n",
    "        self.c = [[0 for i in range(size)] for j in range(size)];\n",
    "\n",
    "        # n, n 까지 이르는 경로중 최대 점수\n",
    "        self.CalculatePath(size -1, size -1)\n",
    "        \n",
    "        # 결과 출력\n",
    "        self.print_result()\n",
    "\n",
    "    def CalculatePath(self, i, j):\n",
    "        pass\n",
    "\n",
    "    def print_result(self):\n",
    "        print(\"given matrix: \")\n",
    "        print(np.matrix(self.matrix))\n",
    "        print(\"cost matrix: \")\n",
    "        print(np.matrix(self.c))\n",
    "\n",
    "mpp = MatrixPathProblem(10)"
   ]
  },
  {
   "cell_type": "markdown",
   "metadata": {},
   "source": [
    "## 돌 놓기"
   ]
  },
  {
   "cell_type": "code",
   "execution_count": null,
   "metadata": {},
   "outputs": [
    {
     "name": "stdout",
     "output_type": "stream",
     "text": [
      "[[13  6  3]\n",
      " [13 16 19]\n",
      " [ 5  3 12]\n",
      " [17  6 15]\n",
      " [15 11  5]]\n",
      "[[13  6  3 16]\n",
      " [19 32 32 38]\n",
      " [37 41 44 49]\n",
      " [61 55 56 73]\n",
      " [71 84 66 75]]\n",
      "\u001b[31m13\u001b[0m \u001b[32m6\u001b[0m \u001b[31m3\u001b[0m \n",
      "\u001b[31m13\u001b[0m \u001b[32m16\u001b[0m \u001b[31m19\u001b[0m \n",
      "\u001b[32m5\u001b[0m \u001b[31m3\u001b[0m \u001b[32m12\u001b[0m \n",
      "\u001b[31m17\u001b[0m \u001b[32m6\u001b[0m \u001b[31m15\u001b[0m \n",
      "\u001b[32m15\u001b[0m \u001b[31m11\u001b[0m \u001b[32m5\u001b[0m \n"
     ]
    }
   ],
   "source": [
    "class PebbleStone:\n",
    "\n",
    "    def __init__(self, size:int):\n",
    "        self.size = size\n",
    "\n",
    "        max_value = 20 + 1\n",
    "        min_value = 3\n",
    "\n",
    "        # 행렬 랜덤 초기화\n",
    "        self.matrix = [[random.randrange(min_value, max_value) for i in range(3)] for j in range(size)];\n",
    "        print(np.matrix(self.matrix))\n",
    "        \n",
    "        self.pattern = [[0], [1], [2], [0, 2]]\n",
    "\n",
    "        self.compatable_p = [[1, 2], [0, 2, 3], [0, 1], [1]]\n",
    "\n",
    "        self.peb = [[0 for i in range(4)] for j in range(size)]\n",
    "\n",
    "        self.pebble(size)\n",
    "        self.printPebbles()\n",
    "\n",
    "\n",
    "    def pebble(self, n:int):\n",
    "        pass\n",
    "\n",
    "\n",
    "    def printPebbles(self):\n",
    "        selectIdx = [-1 for _ in range(self.size)]\n",
    "\n",
    "        # get the index of the solution\n",
    "        sol_p = self.peb[self.size-1].index( max(self.peb[self.size-1]) )\n",
    "        selectIdx[self.size-1] = sol_p\n",
    "\n",
    "\n",
    "        for i in range(self.size-1, 1, -1):\n",
    "            p = selectIdx[i]\n",
    "            w = sum([ self.matrix[i][j] for j in self.pattern[p]])\n",
    "            peb_cost = self.peb[i][p]\n",
    "            selectIdx[i-1] = self.peb[i-1].index( peb_cost - w )\n",
    "\n",
    "\n",
    "        for i in range(self.size):\n",
    "            for j in range(3):\n",
    "                sol_pattern = self.pattern[selectIdx[i]]\n",
    "                str = \"\\x1b[{}m{}\\x1b[0m \".format(31 if j in sol_pattern else 32, self.matrix[i][j])\n",
    "                print(str, end='')\n",
    "            print('')\n",
    "\n",
    "\n",
    "# let's test\n",
    "ps = PebbleStone(5)"
   ]
  },
  {
   "cell_type": "markdown",
   "metadata": {},
   "source": [
    "## 행렬의 곱셈"
   ]
  },
  {
   "cell_type": "code",
   "execution_count": null,
   "metadata": {},
   "outputs": [
    {
     "name": "stdout",
     "output_type": "stream",
     "text": [
      "[14, 18, 15, 6, 18]\n",
      "[[0 0 0 0]\n",
      " [0 0 0 0]\n",
      " [0 0 0 0]\n",
      " [0 0 0 0]]\n",
      "i: 0, j: 1, r: 1\n",
      "[0]\n",
      "i: 1, j: 2, r: 1\n",
      "[1]\n",
      "i: 2, j: 3, r: 1\n",
      "[2]\n",
      "i: 0, j: 2, r: 2\n",
      "[0, 1]\n",
      "i: 1, j: 3, r: 2\n",
      "[1, 2]\n",
      "i: 0, j: 3, r: 3\n",
      "[0, 1, 2]\n",
      "[[   0 3780 1260 1512]\n",
      " [   0    0 1620 1944]\n",
      " [   0    0    0 1620]\n",
      " [   0    0    0    0]]\n"
     ]
    }
   ],
   "source": [
    "class MathMultiply:\n",
    "    def __init__(self, size:int):\n",
    "        self.size = size\n",
    "\n",
    "        max_value = 20 + 1\n",
    "        min_value = 3\n",
    "\n",
    "        self.p = [random.randrange(min_value, max_value) for _ in range(0, size+1)]\n",
    "        self.m = [[0 for i in range(size)] for j in range(size)]\n",
    "\n",
    "        print(self.p)\n",
    "\n",
    "        self.matrixchain(size)\n",
    "        \n",
    "        print(np.matrix(self.m))\n",
    "\n",
    "    def matrixchain(self, n:int):\n",
    "        pass\n",
    "        \n",
    "\n",
    "mm = MathMultiply(4)"
   ]
  }
 ],
 "metadata": {
  "kernelspec": {
   "display_name": ".venv",
   "language": "python",
   "name": "python3"
  },
  "language_info": {
   "codemirror_mode": {
    "name": "ipython",
    "version": 3
   },
   "file_extension": ".py",
   "mimetype": "text/x-python",
   "name": "python",
   "nbconvert_exporter": "python",
   "pygments_lexer": "ipython3",
   "version": "3.12.3"
  }
 },
 "nbformat": 4,
 "nbformat_minor": 2
}
