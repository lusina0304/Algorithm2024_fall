{
 "cells": [
  {
   "cell_type": "markdown",
   "metadata": {},
   "source": [
    "# 재귀 호출\n",
    "\n",
    "## 재귀에 대하여 (recursion)\n",
    "\n",
    "대부분의 알고리즘 전략은 컴퓨터 밖에서도 대응되는 개념을 찾을 수 있다. 반복적으로 어떠한 작업을 수행할 때, 우리는 '반복(iteration)'을 사용한다고 생각할 수 있다. 또는 어떠한 결정을 내릴 때, '조건 제어(if문)'를 수행한다고 볼 수 있다. 이러한 것들은 익숙하기 때문에, 대부분은 'for', 'while', 'if'와 같은 순차적 구문을 비교적 쉽게 배울 수 있다.\n",
    "\n",
    "하지만 더 복잡한 프로그래밍 문제를 해결하기 위해서는, 현실 세계에서 잘 보지 못했던 '강력한 문제 해결 전략'을 배워야 한다. 이 전략은 '재귀(recursion)'라고 불리며, 큰 문제를 같은 형태의 작은 문제들로 축소하여 해결하는 것으로 정의된다. 여기에서 중요한 부분은 '같은 형태'라는 구절이다. 이 구절이 없으면 단순히 단계별 세분화 전략을 수행하는 것에 그친다. 두 전략 모두 문제를 분해하는 방식을 따르지만, 재귀가 특별한 이유는 재귀적 해결책에서 하위 문제들이 원래 문제와 같은 형태를 가진다는 점이다.\n",
    "\n",
    "대부분의 초보 프로그래머들처럼, 풀고자하는 문제를 같은 형태의 하위 문제들로 분할하는 개념은 처음 들었을 때 잘 이해되지 않을 수 있다. 이전에 설명한 것처럼 재귀는 일상 생활에서 접할 수 있는 개념이 아니다보니, 낯설게 느껴지는 것이다. 재귀를 사용하기 위해선 재귀가 다른 제어 구조들처럼 자연스럽게 느껴지도록 하는 직관을 가져야 한다. 대부분 이러한 이해 수준에 도달하는 데는 상당한 시간과 연습이 필요하다. 그럼에도 재귀를 배우는 것은 매우 중요한 일이며, 재귀는 문제 해결 도구로서 매우 강력한 힘을 준다. 또한 재귀를 사용하면 복잡한 프로그램을 단순하고 우아하게 만들 수 있는 경우가 많다.\n",
    "\n",
    "## 재귀호출 예제\n",
    "\n",
    "예시를 통해 재귀가 무엇인지 더 잘 이해해보자. 본인이 큰 자선 단체의 자금 조달을 담당했다고 상상해보자. 이 단체의 자원봉사자는 많지만 자금은 부족한 상태이다. 임무는 이 들을 이용하여 100만 달러를 모금하는 것이다.<br>\n",
    "<br>\n",
    "만약 100만 달러를 한 번에 기부해 줄 사람을 알고 있다면, 일은 매우 쉬울 것이지만 그럴 가능성은 매우 낮다. 그렇다면, 커다란 금액인 100만 달러보다 작은 금액을 모금하기는 조금 더 쉽지 않을까?<br>\n",
    "만약 해당 단체에 평균 기부금이 100달러라고 가정한다면, 10,000명의 사람들에게 각각 100달러씩 모금하는 방법이 있다. 하지만 1명이 1만명의 기부자를 찾아가기도 어려운 일이다. 그렇다면 어떻게 해야 할까?\n",
    "<br>\n",
    "이런 1사람의 역량을 넘는 일을 풀기 위해서 흔히 하는 방법은 일부 업무를 다른 사람에게 시키는 것이다. 주어진 단체에는 충분한 자원봉사자가 있다. 만약 10명의 자원봉사자에게 업무를 나누어 준다면, 각자 10만 달러씩 모금해와도 문제는 해결된다.<br>\n",
    "<br>\n",
    "10만 달러를 모으는 것은 100만 달러를 모으는 것보다 더 쉽지만, 여전히 간단한 일은 아니다. 그렇다면 자원봉사자들은 어떻해야 할까? 그들도 같은 전략을 채택하여 다른 자원봉사자에게 일을 나누어 줄 수 있다.<br>\n",
    "만약 그들이 각자 10명의 자원봉사자를 모집한다면, 그 사람들은 각자 1만 달러씩만 모금하면 된다. 이런 과정은 자원봉사자들이 스스로 돈을 모을 수 있을 때까지 계속될 수 있다. 만약 필요 모금액이 100 달러 이하로 내려간다면 자원봉사자는 한 명의 기부자로부터 100달러를 모을 수 있을 것이며, 그 경우 더 이상 자원봉사자가 필요없게 된다.<br>\n",
    "<br>\n",
    "이 모금 전략을 의사 코드(pseudocode)로 표현하면, 다음과 같은 구조를 갖는다:\n",
    "\n",
    "```python\n",
    "CollectContributions(int n):\n",
    "    if (n <= 100):\n",
    "        \"한 명에게 모금한다.\"\n",
    "    else:\n",
    "        \"10명의 봉사자를 찾는다.\"\n",
    "        \"각각 봉사자에게 n/10 달러씩 모으게 한다.\"\n",
    "        \"봉사자들로 부터 돈을 모은다.\"\n",
    "```\n",
    "\n",
    "가장 중요한 부분은 다음이다.\n",
    "\n",
    "```\n",
    "\"각각 봉사자에게 n/10 달러씩 모으게 한다.\"\n",
    "```\n",
    "\n",
    "기본적인 과제의 성격—n 달러를 모으는 것—은 동일하게 유지된다. 유일한 차이점은 n의 값이 더 작아진다는 것이다. 게다가 문제는 동일하기 때문에, 원래 함수를 호출하여 해결할 수 있다. 따라서 앞의 의사 코드 줄은 결국 다음 줄과 같은 내용이다.\n",
    "\n",
    "```python\n",
    "    CollectContributions(n / 10)\n",
    "```\n",
    "\n",
    "기부금이 100달러 이상일 경우, CollectContributions 함수가 결국 스스로를 호출한다는 점이 중요하다. 프로그래밍에서 함수가 자신을 호출하는 것이 재귀 호출이라고 한다. CollectContributions 함수는 재귀 함수의 전형적인 모습이다. 일반적으로, 재귀 함수의 본문은 다음과 같은 형태를 가진다:\n",
    "<br>\n",
    "\n",
    "``` python\n",
    "if (문제를 풀 수 있는가?):\n",
    "    문제가 충분이 작아졌다면 재귀없이 문제를 해결한다.\n",
    "else:\n",
    "    큰 문제를 같은 형태의 작은 문제로 분할한다.\n",
    "    같은 함수에 나눠진 부분 문제들을 할당하고 재귀적으로 호출한다.\n",
    "    각 부분 문제들의 답안을 모두 합쳐 큰 문제의 답안으로 제시한다.\n",
    "```\n",
    "\n",
    "이 구조는 '재귀 패러다임'이라고 불린다. 이는 다음 조건을 충족하는 문제에 적용할 수 있다:\n",
    "<br>\n",
    " 1. 답이 쉽게 결정되는 경우를 알 수 있어야 합니다.\n",
    " 2. 복잡한 문제를 같은 형태의 더 작은 문제로 나눠 줄 수 있어야 한다.\n",
    "<br>\n",
    "CollectContributions 예시는 재귀의 예시를 보여준다. 모든 재귀 기법에서와 마찬가지로, 원래 문제는 규모만 다를 뿐 동일한 형태의 더 작은 하위 문제들로 분해되어 해결된다. 여기서 원래 문제는 100만 달러를 모으는 것이며, 첫 번째 분해 수준에서는 각각 10만 달러를 모으는 것이 된다. 이 문제들은 다시 더 작은 문제들로 분할되고, 이러한 과정은 문제가 즉시 해결할 수 있을 만큼 단순해질 때까지 계속된다. 재귀적 해결책은 복잡한 문제를 더 단순한 문제로 나누어 해결하는 데 기반하기 때문에, 재귀적 해결책을 '분할 정복(divide-and-conquer)' 전략이라고 부르기도 한다.\n",
    "\n",
    "## 팩토리얼 예제\n",
    "\n",
    "위의 내용을 확인하여 아래 재귀 함수를 구성해보자.\n",
    "우선 재귀를 이용하여 팩토리얼을 계산하는 함수를 보자. 이는 수업시간이 이미 다뤘던 내용이다."
   ]
  },
  {
   "cell_type": "code",
   "execution_count": 1,
   "metadata": {},
   "outputs": [],
   "source": [
    "def factorial(n:int) -> int:\n",
    "    if (n == 0):\n",
    "        return 1;\n",
    "    else:\n",
    "        return n * factorial(n-1);"
   ]
  },
  {
   "cell_type": "markdown",
   "metadata": {},
   "source": [
    "10 팩토리얼 (10!)의 값은 3628800 이다.<br>\n",
    "아래의 테스트 코드로 결과가 맞는지 확인해보자."
   ]
  },
  {
   "cell_type": "code",
   "execution_count": 14,
   "metadata": {},
   "outputs": [
    {
     "name": "stdout",
     "output_type": "stream",
     "text": [
      "3628800\n"
     ]
    }
   ],
   "source": [
    "print(factorial(10))"
   ]
  },
  {
   "cell_type": "markdown",
   "metadata": {},
   "source": [
    "### 문자열과 재귀 호출\n",
    "\n",
    "이번에는 문자열을 거꾸로 출력하는 함수를 작성하여 보자.<br>\n",
    "아래의 코드는 for 문을 이용하여 문자열을 뒤로 순회하여 거꾸로 뒤집는 함수이다."
   ]
  },
  {
   "cell_type": "code",
   "execution_count": 12,
   "metadata": {},
   "outputs": [],
   "source": [
    "def reverseIterative(s: str) -> str:\n",
    "    reversed = \"\";\n",
    "    for i in range(len(s)-1,-1,-1):\n",
    "        reversed += s[i]\n",
    "    return reversed"
   ]
  },
  {
   "cell_type": "markdown",
   "metadata": {},
   "source": [
    "이를 확인해보면 다음과 같다."
   ]
  },
  {
   "cell_type": "code",
   "execution_count": 22,
   "metadata": {},
   "outputs": [
    {
     "name": "stdout",
     "output_type": "stream",
     "text": [
      "The reversed string of \"Hello world!\" is \"!dlrow olleH\"\n"
     ]
    }
   ],
   "source": [
    "print(\"The reversed string of \\\"Hello world!\\\" is \\\"\" + reverseIterative(\"Hello world!\") + \"\\\"\")"
   ]
  },
  {
   "cell_type": "markdown",
   "metadata": {},
   "source": [
    "이와 같이 Hello world! 의 뒤집힌 문자열은 !dlrow olleH 이다. <br>\n",
    "위와 동일한 일을 수행하는 함수를 재귀 호출로 바꾸어 보자.\n",
    "<과제!>"
   ]
  },
  {
   "cell_type": "code",
   "execution_count": 23,
   "metadata": {},
   "outputs": [],
   "source": [
    "def reverse(s: str) -> str:\n",
    "    # 재귀 호출을 통해 문자열을 뒤집어보자."
   ]
  },
  {
   "cell_type": "code",
   "execution_count": 25,
   "metadata": {},
   "outputs": [
    {
     "name": "stdout",
     "output_type": "stream",
     "text": [
      "The reversed string of \"Hello world!\" is \"!dlrow olleH\"\n"
     ]
    }
   ],
   "source": [
    "print(\"The reversed string of \\\"Hello world!\\\" is \\\"\" + reverse(\"Hello world!\") + \"\\\"\")"
   ]
  },
  {
   "cell_type": "markdown",
   "metadata": {},
   "source": [
    "```\n",
    "The reversed string of \"Hello world!\" is \"!dlrow olleH\"\n",
    "```\n",
    "\n",
    "와 같이 뜨면 성공이다."
   ]
  }
 ],
 "metadata": {
  "kernelspec": {
   "display_name": ".venv",
   "language": "python",
   "name": "python3"
  },
  "language_info": {
   "codemirror_mode": {
    "name": "ipython",
    "version": 3
   },
   "file_extension": ".py",
   "mimetype": "text/x-python",
   "name": "python",
   "nbconvert_exporter": "python",
   "pygments_lexer": "ipython3",
   "version": "3.9.13"
  }
 },
 "nbformat": 4,
 "nbformat_minor": 2
}
